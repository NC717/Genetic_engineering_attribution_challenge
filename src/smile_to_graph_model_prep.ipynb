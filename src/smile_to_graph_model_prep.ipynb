{
  "nbformat": 4,
  "nbformat_minor": 0,
  "metadata": {
    "colab": {
      "name": "Experiment_1.1_(GCN Structure_Classification).ipynb",
      "provenance": [],
      "collapsed_sections": [
        "bETzIK-OtNCz",
        "2MrPrpYds8Xe"
      ],
      "toc_visible": true
    },
    "kernelspec": {
      "name": "python3",
      "display_name": "Python 3"
    },
    "accelerator": "GPU"
  },
  "cells": [
    {
      "cell_type": "code",
      "metadata": {
        "id": "Z_8KouOLslQE",
        "colab": {
          "base_uri": "https://localhost:8080/",
          "height": 354
        },
        "outputId": "0c9d13b8-9f6c-4481-d310-e24e77e3af77"
      },
      "source": [
        "import os\n",
        "os.environ['CUDA_LAUNCH_BLOCKING'] = '1'\n",
        "!nvidia-smi"
      ],
      "execution_count": null,
      "outputs": [
        {
          "output_type": "stream",
          "text": [
            "Sat Oct  3 07:52:57 2020       \n",
            "+-----------------------------------------------------------------------------+\n",
            "| NVIDIA-SMI 455.23.05    Driver Version: 418.67       CUDA Version: 10.1     |\n",
            "|-------------------------------+----------------------+----------------------+\n",
            "| GPU  Name        Persistence-M| Bus-Id        Disp.A | Volatile Uncorr. ECC |\n",
            "| Fan  Temp  Perf  Pwr:Usage/Cap|         Memory-Usage | GPU-Util  Compute M. |\n",
            "|                               |                      |               MIG M. |\n",
            "|===============================+======================+======================|\n",
            "|   0  Tesla T4            Off  | 00000000:00:04.0 Off |                    0 |\n",
            "| N/A   52C    P8    10W /  70W |      0MiB / 15079MiB |      0%      Default |\n",
            "|                               |                      |                 ERR! |\n",
            "+-------------------------------+----------------------+----------------------+\n",
            "                                                                               \n",
            "+-----------------------------------------------------------------------------+\n",
            "| Processes:                                                                  |\n",
            "|  GPU   GI   CI        PID   Type   Process name                  GPU Memory |\n",
            "|        ID   ID                                                   Usage      |\n",
            "|=============================================================================|\n",
            "|  No running processes found                                                 |\n",
            "+-----------------------------------------------------------------------------+\n"
          ],
          "name": "stdout"
        }
      ]
    },
    {
      "cell_type": "code",
      "metadata": {
        "id": "JwZOMeNutj2w",
        "colab": {
          "base_uri": "https://localhost:8080/",
          "height": 34
        },
        "outputId": "8e4ca869-1529-4de2-fac3-75714e379ec8"
      },
      "source": [
        "# from google.colab import drive\n",
        "# drive.mount('/content/drive')"
      ],
      "execution_count": null,
      "outputs": [
        {
          "output_type": "stream",
          "text": [
            "Mounted at /content/drive\n"
          ],
          "name": "stdout"
        }
      ]
    },
    {
      "cell_type": "code",
      "metadata": {
        "id": "jfJFCUPvs3yf",
        "colab": {
          "base_uri": "https://localhost:8080/",
          "height": 1000
        },
        "outputId": "45cb7f1f-25c3-47d4-8be7-1111922d095b"
      },
      "source": [
        "# Setup conda environment to download RDKIt\n",
        "!wget -c https://repo.anaconda.com/miniconda/Miniconda3-4.5.4-Linux-x86_64.sh\n",
        "!chmod +x Miniconda3-4.5.4-Linux-x86_64.sh\n",
        "!bash ./Miniconda3-4.5.4-Linux-x86_64.sh -b -f -p /usr/local\n",
        "\n",
        "# update 1\n",
        "!conda install -q -y --prefix /usr/local python=3.6 ujson\n",
        "\n",
        "# update 2\n",
        "import sys\n",
        "sys.path.append('/usr/local/lib/python3.6/site-packages')\n",
        "# test it\n",
        "import ujson\n",
        "print(ujson.dumps({1:2}))\n",
        "\n",
        "#RDKIT installation\n",
        "!conda install -y -c rdkit rdkit\n",
        "\n",
        "# Pytorch geometric\n",
        "# Install required packages.\n",
        "!pip install -q torch-scatter==latest+cu101 -f https://pytorch-geometric.com/whl/torch-1.6.0.html\n",
        "!pip install -q torch-sparse==latest+cu101 -f https://pytorch-geometric.com/whl/torch-1.6.0.html\n",
        "!pip install -q git+https://github.com/rusty1s/pytorch_geometric.git\n",
        "\n",
        "# Reverting back to previous version of torch \n",
        "# !pip install torch==1.0.0 torchvision==0.2.1"
      ],
      "execution_count": null,
      "outputs": [
        {
          "output_type": "stream",
          "text": [
            "--2020-10-03 07:53:25--  https://repo.anaconda.com/miniconda/Miniconda3-4.5.4-Linux-x86_64.sh\n",
            "Resolving repo.anaconda.com (repo.anaconda.com)... 104.16.131.3, 104.16.130.3, 2606:4700::6810:8203, ...\n",
            "Connecting to repo.anaconda.com (repo.anaconda.com)|104.16.131.3|:443... connected.\n",
            "HTTP request sent, awaiting response... 200 OK\n",
            "Length: 58468498 (56M) [application/x-sh]\n",
            "Saving to: ‘Miniconda3-4.5.4-Linux-x86_64.sh’\n",
            "\n",
            "Miniconda3-4.5.4-Li 100%[===================>]  55.76M   224MB/s    in 0.2s    \n",
            "\n",
            "2020-10-03 07:53:25 (224 MB/s) - ‘Miniconda3-4.5.4-Linux-x86_64.sh’ saved [58468498/58468498]\n",
            "\n",
            "PREFIX=/usr/local\n",
            "installing: python-3.6.5-hc3d631a_2 ...\n",
            "Python 3.6.5 :: Anaconda, Inc.\n",
            "installing: ca-certificates-2018.03.07-0 ...\n",
            "installing: conda-env-2.6.0-h36134e3_1 ...\n",
            "installing: libgcc-ng-7.2.0-hdf63c60_3 ...\n",
            "installing: libstdcxx-ng-7.2.0-hdf63c60_3 ...\n",
            "installing: libffi-3.2.1-hd88cf55_4 ...\n",
            "installing: ncurses-6.1-hf484d3e_0 ...\n",
            "installing: openssl-1.0.2o-h20670df_0 ...\n",
            "installing: tk-8.6.7-hc745277_3 ...\n",
            "installing: xz-5.2.4-h14c3975_4 ...\n",
            "installing: yaml-0.1.7-had09818_2 ...\n",
            "installing: zlib-1.2.11-ha838bed_2 ...\n",
            "installing: libedit-3.1.20170329-h6b74fdf_2 ...\n",
            "installing: readline-7.0-ha6073c6_4 ...\n",
            "installing: sqlite-3.23.1-he433501_0 ...\n",
            "installing: asn1crypto-0.24.0-py36_0 ...\n",
            "installing: certifi-2018.4.16-py36_0 ...\n",
            "installing: chardet-3.0.4-py36h0f667ec_1 ...\n",
            "installing: idna-2.6-py36h82fb2a8_1 ...\n",
            "installing: pycosat-0.6.3-py36h0a5515d_0 ...\n",
            "installing: pycparser-2.18-py36hf9f622e_1 ...\n",
            "installing: pysocks-1.6.8-py36_0 ...\n",
            "installing: ruamel_yaml-0.15.37-py36h14c3975_2 ...\n",
            "installing: six-1.11.0-py36h372c433_1 ...\n",
            "installing: cffi-1.11.5-py36h9745a5d_0 ...\n",
            "installing: setuptools-39.2.0-py36_0 ...\n",
            "installing: cryptography-2.2.2-py36h14c3975_0 ...\n",
            "installing: wheel-0.31.1-py36_0 ...\n",
            "installing: pip-10.0.1-py36_0 ...\n",
            "installing: pyopenssl-18.0.0-py36_0 ...\n",
            "installing: urllib3-1.22-py36hbe7ace6_0 ...\n",
            "installing: requests-2.18.4-py36he2e5f8d_1 ...\n",
            "installing: conda-4.5.4-py36_0 ...\n",
            "installation finished.\n",
            "WARNING:\n",
            "    You currently have a PYTHONPATH environment variable set. This may cause\n",
            "    unexpected behavior when running the Python interpreter in Miniconda3.\n",
            "    For best results, please verify that your PYTHONPATH only points to\n",
            "    directories of packages that are compatible with the Python interpreter\n",
            "    in Miniconda3: /usr/local\n",
            "Solving environment: ...working... done\n",
            "\n",
            "## Package Plan ##\n",
            "\n",
            "  environment location: /usr/local\n",
            "\n",
            "  added / updated specs: \n",
            "    - python=3.6\n",
            "    - ujson\n",
            "\n",
            "\n",
            "The following packages will be downloaded:\n",
            "\n",
            "    package                    |            build\n",
            "    ---------------------------|-----------------\n",
            "    openssl-1.1.1h             |       h7b6447c_0         3.8 MB\n",
            "    ncurses-6.2                |       he6710b0_1         1.1 MB\n",
            "    ca-certificates-2020.7.22  |                0         132 KB\n",
            "    xz-5.2.5                   |       h7b6447c_0         438 KB\n",
            "    tk-8.6.10                  |       hbc83047_0         3.2 MB\n",
            "    sqlite-3.33.0              |       h62c20be_0         2.0 MB\n",
            "    certifi-2020.6.20          |           py36_0         160 KB\n",
            "    libffi-3.3                 |       he6710b0_2          54 KB\n",
            "    readline-8.0               |       h7b6447c_0         428 KB\n",
            "    python-3.6.12              |       hcff3b4d_2        34.0 MB\n",
            "    zlib-1.2.11                |       h7b6447c_3         120 KB\n",
            "    ld_impl_linux-64-2.33.1    |       h53a641e_7         645 KB\n",
            "    wheel-0.35.1               |             py_0          36 KB\n",
            "    libedit-3.1.20191231       |       h14c3975_1         121 KB\n",
            "    setuptools-49.6.0          |           py36_1         933 KB\n",
            "    pip-20.2.3                 |           py36_0         2.0 MB\n",
            "    _libgcc_mutex-0.1          |             main           3 KB\n",
            "    libstdcxx-ng-9.1.0         |       hdf63c60_0         4.0 MB\n",
            "    libgcc-ng-9.1.0            |       hdf63c60_0         8.1 MB\n",
            "    ujson-3.2.0                |   py36he6710b0_0          48 KB\n",
            "    ------------------------------------------------------------\n",
            "                                           Total:        61.4 MB\n",
            "\n",
            "The following NEW packages will be INSTALLED:\n",
            "\n",
            "    _libgcc_mutex:    0.1-main               \n",
            "    ld_impl_linux-64: 2.33.1-h53a641e_7      \n",
            "    ujson:            3.2.0-py36he6710b0_0   \n",
            "\n",
            "The following packages will be UPDATED:\n",
            "\n",
            "    ca-certificates:  2018.03.07-0            --> 2020.7.22-0            \n",
            "    certifi:          2018.4.16-py36_0        --> 2020.6.20-py36_0       \n",
            "    libedit:          3.1.20170329-h6b74fdf_2 --> 3.1.20191231-h14c3975_1\n",
            "    libffi:           3.2.1-hd88cf55_4        --> 3.3-he6710b0_2         \n",
            "    libgcc-ng:        7.2.0-hdf63c60_3        --> 9.1.0-hdf63c60_0       \n",
            "    libstdcxx-ng:     7.2.0-hdf63c60_3        --> 9.1.0-hdf63c60_0       \n",
            "    ncurses:          6.1-hf484d3e_0          --> 6.2-he6710b0_1         \n",
            "    openssl:          1.0.2o-h20670df_0       --> 1.1.1h-h7b6447c_0      \n",
            "    pip:              10.0.1-py36_0           --> 20.2.3-py36_0          \n",
            "    python:           3.6.5-hc3d631a_2        --> 3.6.12-hcff3b4d_2      \n",
            "    readline:         7.0-ha6073c6_4          --> 8.0-h7b6447c_0         \n",
            "    setuptools:       39.2.0-py36_0           --> 49.6.0-py36_1          \n",
            "    sqlite:           3.23.1-he433501_0       --> 3.33.0-h62c20be_0      \n",
            "    tk:               8.6.7-hc745277_3        --> 8.6.10-hbc83047_0      \n",
            "    wheel:            0.31.1-py36_0           --> 0.35.1-py_0            \n",
            "    xz:               5.2.4-h14c3975_4        --> 5.2.5-h7b6447c_0       \n",
            "    zlib:             1.2.11-ha838bed_2       --> 1.2.11-h7b6447c_3      \n",
            "\n",
            "Preparing transaction: ...working... done\n",
            "Verifying transaction: ...working... done\n",
            "Executing transaction: ...working... done\n",
            "{\"1\":2}\n",
            "Solving environment: - \b\b\\ \b\b| \b\b/ \b\b- \b\b\\ \b\b| \b\b/ \b\b- \b\b\\ \b\b| \b\b/ \b\b- \b\b\\ \b\b| \b\b/ \b\b- \b\b\\ \b\b| \b\b/ \b\b- \b\b\\ \b\b| \b\b/ \b\b- \b\b\\ \b\b| \b\b/ \b\b- \b\b\\ \b\b| \b\b/ \b\b- \b\b\\ \b\b| \b\b/ \b\b- \b\b\\ \b\b| \b\b/ \b\b- \b\b\\ \b\b| \b\b/ \b\b- \b\b\\ \b\b| \b\b/ \b\b- \b\b\\ \b\b| \b\b/ \b\b- \b\b\\ \b\b| \b\b/ \b\b- \b\b\\ \b\b| \b\b/ \b\b- \b\b\\ \b\b| \b\b/ \b\b- \b\b\\ \b\b| \b\b/ \b\b- \b\b\\ \b\b| \b\b/ \b\b- \b\b\\ \b\b| \b\b/ \b\b- \b\b\\ \b\b| \b\bdone\n",
            "\n",
            "\n",
            "==> WARNING: A newer version of conda exists. <==\n",
            "  current version: 4.5.4\n",
            "  latest version: 4.8.5\n",
            "\n",
            "Please update conda by running\n",
            "\n",
            "    $ conda update -n base conda\n",
            "\n",
            "\n",
            "\n",
            "## Package Plan ##\n",
            "\n",
            "  environment location: /usr/local\n",
            "\n",
            "  added / updated specs: \n",
            "    - rdkit\n",
            "\n",
            "\n",
            "The following packages will be downloaded:\n",
            "\n",
            "    package                    |            build\n",
            "    ---------------------------|-----------------\n",
            "    lz4-c-1.9.2                |       he6710b0_1         253 KB\n",
            "    pcre-8.44                  |       he6710b0_0         269 KB\n",
            "    freetype-2.10.2            |       h5ab3b9f_0         915 KB\n",
            "    libpng-1.6.37              |       hbc83047_0         364 KB\n",
            "    jpeg-9b                    |       h024ee3a_2         248 KB\n",
            "    zstd-1.4.5                 |       h9ceee32_0         716 KB\n",
            "    numpy-base-1.19.1          |   py36hfa32c7d_0         5.2 MB\n",
            "    mkl-2020.2                 |              256       213.9 MB\n",
            "    mkl-service-2.3.0          |   py36he904b0f_0         208 KB\n",
            "    py-boost-1.67.0            |   py36h04863e7_4         302 KB\n",
            "    blas-1.0                   |              mkl           6 KB\n",
            "    pandas-1.1.2               |   py36he6710b0_0        10.5 MB\n",
            "    libxml2-2.9.10             |       he19cac6_1         1.3 MB\n",
            "    mkl_random-1.1.1           |   py36h0573a6f_0         382 KB\n",
            "    libtiff-4.1.0              |       h2733197_1         607 KB\n",
            "    fontconfig-2.13.0          |       h9420a91_0         291 KB\n",
            "    intel-openmp-2020.2        |              254         947 KB\n",
            "    libboost-1.67.0            |       h46d08c1_4        20.9 MB\n",
            "    bzip2-1.0.8                |       h7b6447c_0         105 KB\n",
            "    olefile-0.46               |             py_0          33 KB\n",
            "    glib-2.65.0                |       h3eb4bd4_0         3.5 MB\n",
            "    cairo-1.14.12              |       h8948797_3         1.3 MB\n",
            "    python-dateutil-2.8.1      |             py_0         224 KB\n",
            "    libuuid-1.0.3              |       h1bed415_2          16 KB\n",
            "    libxcb-1.14                |       h7b6447c_0         610 KB\n",
            "    numpy-1.19.1               |   py36hbc911f0_0          20 KB\n",
            "    icu-58.2                   |       he6710b0_3        22.7 MB\n",
            "    pixman-0.40.0              |       h7b6447c_0         628 KB\n",
            "    lcms2-2.11                 |       h396b838_0         419 KB\n",
            "    mkl_fft-1.2.0              |   py36h23d657b_0         164 KB\n",
            "    rdkit-2020.03.3.0          |   py36hc20afe1_1        24.7 MB  rdkit\n",
            "    pytz-2020.1                |             py_0         239 KB\n",
            "    pillow-7.2.0               |   py36hb39fc2d_0         673 KB\n",
            "    ------------------------------------------------------------\n",
            "                                           Total:       312.5 MB\n",
            "\n",
            "The following NEW packages will be INSTALLED:\n",
            "\n",
            "    blas:            1.0-mkl                         \n",
            "    bzip2:           1.0.8-h7b6447c_0                \n",
            "    cairo:           1.14.12-h8948797_3              \n",
            "    fontconfig:      2.13.0-h9420a91_0               \n",
            "    freetype:        2.10.2-h5ab3b9f_0               \n",
            "    glib:            2.65.0-h3eb4bd4_0               \n",
            "    icu:             58.2-he6710b0_3                 \n",
            "    intel-openmp:    2020.2-254                      \n",
            "    jpeg:            9b-h024ee3a_2                   \n",
            "    lcms2:           2.11-h396b838_0                 \n",
            "    libboost:        1.67.0-h46d08c1_4               \n",
            "    libpng:          1.6.37-hbc83047_0               \n",
            "    libtiff:         4.1.0-h2733197_1                \n",
            "    libuuid:         1.0.3-h1bed415_2                \n",
            "    libxcb:          1.14-h7b6447c_0                 \n",
            "    libxml2:         2.9.10-he19cac6_1               \n",
            "    lz4-c:           1.9.2-he6710b0_1                \n",
            "    mkl:             2020.2-256                      \n",
            "    mkl-service:     2.3.0-py36he904b0f_0            \n",
            "    mkl_fft:         1.2.0-py36h23d657b_0            \n",
            "    mkl_random:      1.1.1-py36h0573a6f_0            \n",
            "    numpy:           1.19.1-py36hbc911f0_0           \n",
            "    numpy-base:      1.19.1-py36hfa32c7d_0           \n",
            "    olefile:         0.46-py_0                       \n",
            "    pandas:          1.1.2-py36he6710b0_0            \n",
            "    pcre:            8.44-he6710b0_0                 \n",
            "    pillow:          7.2.0-py36hb39fc2d_0            \n",
            "    pixman:          0.40.0-h7b6447c_0               \n",
            "    py-boost:        1.67.0-py36h04863e7_4           \n",
            "    python-dateutil: 2.8.1-py_0                      \n",
            "    pytz:            2020.1-py_0                     \n",
            "    rdkit:           2020.03.3.0-py36hc20afe1_1 rdkit\n",
            "    zstd:            1.4.5-h9ceee32_0                \n",
            "\n",
            "\n",
            "Downloading and Extracting Packages\n",
            "lz4-c-1.9.2          |  253 KB | : 100% 1.0/1 [00:00<00:00,  6.79it/s]               \n",
            "pcre-8.44            |  269 KB | : 100% 1.0/1 [00:00<00:00, 11.65it/s]\n",
            "freetype-2.10.2      |  915 KB | : 100% 1.0/1 [00:00<00:00,  4.94it/s]               \n",
            "libpng-1.6.37        |  364 KB | : 100% 1.0/1 [00:00<00:00,  9.50it/s]\n",
            "jpeg-9b              |  248 KB | : 100% 1.0/1 [00:00<00:00, 12.61it/s]\n",
            "zstd-1.4.5           |  716 KB | : 100% 1.0/1 [00:00<00:00,  7.03it/s]               \n",
            "numpy-base-1.19.1    |  5.2 MB | : 100% 1.0/1 [00:01<00:00,  1.23s/it]               \n",
            "mkl-2020.2           | 213.9 MB | : 100% 1.0/1 [00:39<00:00, 39.10s/it]                \n",
            "mkl-service-2.3.0    |  208 KB | : 100% 1.0/1 [00:00<00:00, 12.12it/s]\n",
            "py-boost-1.67.0      |  302 KB | : 100% 1.0/1 [00:00<00:00,  6.47it/s]               \n",
            "blas-1.0             |    6 KB | : 100% 1.0/1 [00:00<00:00, 27.55it/s]\n",
            "pandas-1.1.2         | 10.5 MB | : 100% 1.0/1 [00:02<00:00,  2.68s/it]               \n",
            "libxml2-2.9.10       |  1.3 MB | : 100% 1.0/1 [00:00<00:00,  2.40it/s]               \n",
            "mkl_random-1.1.1     |  382 KB | : 100% 1.0/1 [00:00<00:00,  9.91it/s]\n",
            "libtiff-4.1.0        |  607 KB | : 100% 1.0/1 [00:00<00:00,  6.66it/s]               \n",
            "fontconfig-2.13.0    |  291 KB | : 100% 1.0/1 [00:00<00:00, 10.01it/s]\n",
            "intel-openmp-2020.2  |  947 KB | : 100% 1.0/1 [00:00<00:00,  5.85it/s]               \n",
            "libboost-1.67.0      | 20.9 MB | : 100% 1.0/1 [00:08<00:00,  8.90s/it]               \n",
            "bzip2-1.0.8          |  105 KB | : 100% 1.0/1 [00:00<00:00, 16.27it/s]\n",
            "olefile-0.46         |   33 KB | : 100% 1.0/1 [00:00<00:00, 19.84it/s]\n",
            "glib-2.65.0          |  3.5 MB | : 100% 1.0/1 [00:00<00:00,  1.10it/s]               \n",
            "cairo-1.14.12        |  1.3 MB | : 100% 1.0/1 [00:00<00:00,  3.39it/s]               \n",
            "python-dateutil-2.8. |  224 KB | : 100% 1.0/1 [00:00<00:00, 15.65it/s]\n",
            "libuuid-1.0.3        |   16 KB | : 100% 1.0/1 [00:00<00:00, 39.03it/s]\n",
            "libxcb-1.14          |  610 KB | : 100% 1.0/1 [00:00<00:00,  4.99it/s]               \n",
            "numpy-1.19.1         |   20 KB | : 100% 1.0/1 [00:00<00:00, 20.87it/s]\n",
            "icu-58.2             | 22.7 MB | : 100% 1.0/1 [00:03<00:00,  3.54s/it]               \n",
            "pixman-0.40.0        |  628 KB | : 100% 1.0/1 [00:00<00:00,  7.27it/s]               \n",
            "lcms2-2.11           |  419 KB | : 100% 1.0/1 [00:00<00:00,  9.41it/s]\n",
            "mkl_fft-1.2.0        |  164 KB | : 100% 1.0/1 [00:00<00:00, 15.00it/s]\n",
            "rdkit-2020.03.3.0    | 24.7 MB | : 100% 1.0/1 [00:06<00:00, 21.46s/it]               \n",
            "pytz-2020.1          |  239 KB | : 100% 1.0/1 [00:00<00:00,  4.73it/s]               \n",
            "pillow-7.2.0         |  673 KB | : 100% 1.0/1 [00:00<00:00,  5.10it/s]               \n",
            "Preparing transaction: - \b\b\\ \b\b| \b\b/ \b\b- \b\b\\ \b\b| \b\b/ \b\bdone\n",
            "Verifying transaction: \\ \b\b| \b\b/ \b\b- \b\b\\ \b\b| \b\b/ \b\b- \b\b\\ \b\b| \b\b/ \b\b- \b\b\\ \b\b| \b\b/ \b\b- \b\b\\ \b\b| \b\b/ \b\b- \b\b\\ \b\b| \b\b/ \b\b- \b\b\\ \b\b| \b\b/ \b\b- \b\b\\ \b\b| \b\b/ \b\b- \b\b\\ \b\b| \b\b/ \b\b- \b\b\\ \b\b| \b\b/ \b\b- \b\b\\ \b\b| \b\b/ \b\b- \b\b\\ \b\b| \b\b/ \b\b- \b\b\\ \b\b| \b\b/ \b\b- \b\b\\ \b\b| \b\b/ \b\b- \b\b\\ \b\b| \b\b/ \b\b- \b\b\\ \b\b| \b\b/ \b\b- \b\b\\ \b\b| \b\b/ \b\b- \b\b\\ \b\b| \b\b/ \b\bdone\n",
            "Executing transaction: \\ \b\b| \b\b/ \b\b- \b\b\\ \b\b| \b\b/ \b\b- \b\b\\ \b\b| \b\b/ \b\b- \b\b\\ \b\b| \b\b/ \b\b- \b\b\\ \b\b| \b\b/ \b\b- \b\b\\ \b\b| \b\b/ \b\b- \b\b\\ \b\b| \b\b/ \b\b- \b\b\\ \b\b| \b\b/ \b\b- \b\b\\ \b\b| \b\b/ \b\b- \b\b\\ \b\b| \b\b/ \b\b- \b\b\\ \b\b| \b\b/ \b\b- \b\b\\ \b\b| \b\b/ \b\b- \b\b\\ \b\b| \b\b/ \b\b- \b\b\\ \b\b| \b\b/ \b\b- \b\b\\ \b\b| \b\b/ \b\b- \b\b\\ \b\b| \b\b/ \b\b- \b\b\\ \b\b| \b\b/ \b\b- \b\b\\ \b\b| \b\b/ \b\b- \b\b\\ \b\b| \b\b/ \b\b- \b\b\\ \b\b| \b\b/ \b\b- \b\b\\ \b\b| \b\b/ \b\b- \b\b\\ \b\b| \b\b/ \b\b- \b\b\\ \b\b| \b\b/ \b\b- \b\b\\ \b\b| \b\b/ \b\b- \b\b\\ \b\b| \b\b/ \b\b- \b\b\\ \b\b| \b\b/ \b\b- \b\b\\ \b\b| \b\b/ \b\b- \b\b\\ \b\b| \b\b/ \b\b- \b\b\\ \b\b| \b\b/ \b\b- \b\b\\ \b\b| \b\b/ \b\b- \b\b\\ \b\b| \b\b/ \b\b- \b\b\\ \b\b| \b\b/ \b\b- \b\b\\ \b\b| \b\b/ \b\b- \b\b\\ \b\b| \b\b/ \b\b- \b\b\\ \b\b| \b\b/ \b\b- \b\b\\ \b\b| \b\b/ \b\b- \b\b\\ \b\b| \b\b/ \b\b- \b\b\\ \b\b| \b\b/ \b\b- \b\b\\ \b\b| \b\b/ \b\b- \b\b\\ \b\b| \b\b/ \b\b- \b\b\\ \b\b| \b\b/ \b\b- \b\b\\ \b\b| \b\b/ \b\b- \b\b\\ \b\b| \b\b/ \b\b- \b\b\\ \b\b| \b\b/ \b\b- \b\b\\ \b\b| \b\b/ \b\b- \b\b\\ \b\b| \b\b/ \b\b- \b\b\\ \b\b| \b\b/ \b\b- \b\b\\ \b\b| \b\b/ \b\b- \b\b\\ \b\b| \b\b/ \b\b- \b\b\\ \b\b| \b\b/ \b\b- \b\b\\ \b\b| \b\b/ \b\b- \b\b\\ \b\b| \b\b/ \b\b- \b\b\\ \b\b| \b\b/ \b\b- \b\b\\ \b\b| \b\b/ \b\b- \b\b\\ \b\b| \b\b/ \b\b- \b\b\\ \b\b| \b\b/ \b\b- \b\b\\ \b\b| \b\b/ \b\b- \b\b\\ \b\b| \b\b/ \b\b- \b\b\\ \b\b| \b\b/ \b\b- \b\b\\ \b\b| \b\b/ \b\b- \b\b\\ \b\b| \b\b/ \b\b- \b\b\\ \b\b| \b\b/ \b\b- \b\b\\ \b\b| \b\b/ \b\b- \b\b\\ \b\b| \b\b/ \b\b- \b\b\\ \b\b| \b\b/ \b\b- \b\b\\ \b\b| \b\b/ \b\b- \b\b\\ \b\b| \b\b/ \b\b- \b\b\\ \b\b| \b\b/ \b\b- \b\b\\ \b\b| \b\b/ \b\b- \b\b\\ \b\b| \b\b/ \b\b- \b\b\\ \b\b| \b\b/ \b\b- \b\b\\ \b\b| \b\b/ \b\b- \b\b\\ \b\b| \b\b/ \b\b- \b\b\\ \b\b| \b\b/ \b\b- \b\b\\ \b\b| \b\b/ \b\b- \b\b\\ \b\b| \b\b/ \b\b- \b\b\\ \b\b| \b\b/ \b\b- \b\b\\ \b\b| \b\b/ \b\b- \b\b\\ \b\b| \b\b/ \b\b- \b\b\\ \b\b| \b\b/ \b\b- \b\b\\ \b\b| \b\b/ \b\b- \b\b\\ \b\b| \b\b/ \b\b- \b\b\\ \b\b| \b\b/ \b\b- \b\b\\ \b\b| \b\b/ \b\b- \b\b\\ \b\b| \b\b/ \b\b- \b\b\\ \b\b| \b\b/ \b\b- \b\b\\ \b\b| \b\b/ \b\b- \b\b\\ \b\b| \b\b/ \b\b- \b\b\\ \b\b| \b\b/ \b\b- \b\b\\ \b\b| \b\b/ \b\b- \b\b\\ \b\b| \b\b/ \b\b- \b\b\\ \b\b| \b\b/ \b\b- \b\b\\ \b\b| \b\b/ \b\b- \b\b\\ \b\b| \b\b/ \b\b- \b\b\\ \b\b| \b\b/ \b\b- \b\b\\ \b\b| \b\b/ \b\b- \b\b\\ \b\b| \b\b/ \b\b- \b\b\\ \b\b| \b\b/ \b\b- \b\b\\ \b\b| \b\b/ \b\b- \b\b\\ \b\b| \b\b/ \b\b- \b\b\\ \b\b| \b\b/ \b\b- \b\b\\ \b\b| \b\b/ \b\b- \b\b\\ \b\b| \b\b/ \b\b- \b\b\\ \b\b| \b\b/ \b\b- \b\b\\ \b\b| \b\b/ \b\b- \b\b\\ \b\b| \b\b/ \b\b- \b\b\\ \b\b| \b\b/ \b\b- \b\b\\ \b\b| \b\b/ \b\b- \b\b\\ \b\b| \b\b/ \b\b- \b\b\\ \b\b| \b\b/ \b\b- \b\b\\ \b\b| \b\b/ \b\b- \b\b\\ \b\b| \b\b/ \b\b- \b\b\\ \b\b| \b\bdone\n",
            "\u001b[K     |████████████████████████████████| 11.5 MB 9.1 MB/s \n",
            "\u001b[K     |████████████████████████████████| 22.9 MB 81 kB/s \n",
            "\u001b[K     |████████████████████████████████| 25.9 MB 35 kB/s \n",
            "\u001b[K     |████████████████████████████████| 748.8 MB 8.3 kB/s \n",
            "\u001b[K     |████████████████████████████████| 70 kB 9.5 MB/s \n",
            "\u001b[K     |████████████████████████████████| 1.6 MB 64.2 MB/s \n",
            "\u001b[K     |████████████████████████████████| 6.8 MB 63.6 MB/s \n",
            "\u001b[K     |████████████████████████████████| 3.6 MB 51.4 MB/s \n",
            "\u001b[K     |████████████████████████████████| 231 kB 65.5 MB/s \n",
            "\u001b[K     |████████████████████████████████| 2.9 MB 55.9 MB/s \n",
            "\u001b[K     |████████████████████████████████| 2.2 MB 49.4 MB/s \n",
            "\u001b[K     |████████████████████████████████| 125 kB 70.1 MB/s \n",
            "\u001b[K     |████████████████████████████████| 829 kB 59.8 MB/s \n",
            "\u001b[K     |████████████████████████████████| 301 kB 69.1 MB/s \n",
            "\u001b[K     |████████████████████████████████| 18.3 MB 73 kB/s \n",
            "\u001b[K     |████████████████████████████████| 45 kB 4.4 MB/s \n",
            "\u001b[K     |████████████████████████████████| 67 kB 7.0 MB/s \n",
            "\u001b[K     |████████████████████████████████| 11.6 MB 66.9 MB/s \n",
            "\u001b[K     |████████████████████████████████| 88 kB 9.3 MB/s \n",
            "\u001b[?25h  Building wheel for torch-geometric (setup.py) ... \u001b[?25l\u001b[?25hdone\n",
            "  Building wheel for python-louvain (setup.py) ... \u001b[?25l\u001b[?25hdone\n",
            "  Building wheel for future (setup.py) ... \u001b[?25l\u001b[?25hdone\n"
          ],
          "name": "stdout"
        }
      ]
    },
    {
      "cell_type": "code",
      "metadata": {
        "id": "P4MwFsTmtEZW"
      },
      "source": [
        "import pandas as pd\n",
        "import numpy as np\n",
        "import os\n",
        "import re \n",
        "import requests\n",
        "from bs4 import BeautifulSoup\n",
        "import matplotlib.pyplot as plt \n",
        "import warnings\n",
        "\n",
        "warnings.filterwarnings(\"ignore\")\n",
        "pd.options.display.max_columns = 999\n",
        "plt.rcParams['figure.figsize'] = (15, 6)\n",
        "\n",
        "#size=25\n",
        "size=15\n",
        "params = {'legend.fontsize': 'large',\n",
        "          'figure.figsize': (20,8),\n",
        "          'axes.labelsize': size,\n",
        "          'axes.titlesize': size,\n",
        "          'xtick.labelsize': size*0.75,\n",
        "          'ytick.labelsize': size*0.75,\n",
        "          'axes.titlepad': 25}\n",
        "          \n",
        "plt.rcParams.update(params)\n",
        "import seaborn as sns\n",
        "sns.set()\n",
        "\n",
        "from tqdm import tqdm, tqdm_notebook\n",
        "tqdm.pandas()\n",
        "\n",
        "# from rdkit import Chem\n",
        "# from rdkit.Chem import AllChem\n",
        "# from rdkit.Chem.Draw import rdMolDraw2D"
      ],
      "execution_count": null,
      "outputs": []
    },
    {
      "source": [
        "## `GPU Specs`"
      ],
      "cell_type": "markdown",
      "metadata": {}
    },
    {
      "cell_type": "code",
      "metadata": {
        "id": "lBphRGFs0SLv",
        "colab": {
          "base_uri": "https://localhost:8080/",
          "height": 388
        },
        "outputId": "fa19a78a-6b0e-422e-80c5-822b83585bd5"
      },
      "source": [
        "# memory footprint support libraries/code\n",
        "!ln -sf /opt/bin/nvidia-smi /usr/bin/nvidia-smi\n",
        "!pip install gputil\n",
        "!pip install psutil\n",
        "!pip install humanize\n",
        "import psutil\n",
        "import humanize\n",
        "import os\n",
        "import GPUtil as GPU"
      ],
      "execution_count": null,
      "outputs": [
        {
          "output_type": "stream",
          "text": [
            "Collecting gputil\n",
            "  Downloading https://files.pythonhosted.org/packages/ed/0e/5c61eedde9f6c87713e89d794f01e378cfd9565847d4576fa627d758c554/GPUtil-1.4.0.tar.gz\n",
            "Building wheels for collected packages: gputil\n",
            "  Running setup.py bdist_wheel for gputil ... \u001b[?25ldone\n",
            "\u001b[?25h  Stored in directory: /root/.cache/pip/wheels/3d/77/07/80562de4bb0786e5ea186911a2c831fdd0018bda69beab71fd\n",
            "Successfully built gputil\n",
            "Installing collected packages: gputil\n",
            "Successfully installed gputil-1.4.0\n",
            "Collecting psutil\n",
            "\u001b[?25l  Downloading https://files.pythonhosted.org/packages/aa/3e/d18f2c04cf2b528e18515999b0c8e698c136db78f62df34eee89cee205f1/psutil-5.7.2.tar.gz (460kB)\n",
            "\u001b[K    100% |████████████████████████████████| 460kB 16.9MB/s \n",
            "\u001b[?25hBuilding wheels for collected packages: psutil\n",
            "  Running setup.py bdist_wheel for psutil ... \u001b[?25ldone\n",
            "\u001b[?25h  Stored in directory: /root/.cache/pip/wheels/39/a0/f5/c4fa280463e29aea07797acb5312358fefb067c1f4f98e11b1\n",
            "Successfully built psutil\n",
            "Installing collected packages: psutil\n",
            "Successfully installed psutil-5.7.2\n",
            "Collecting humanize\n",
            "\u001b[?25l  Downloading https://files.pythonhosted.org/packages/3a/8a/bd639b4c0da86f5d911f53a8a4bf6dfa62338bd388e4654171a77b49ef3a/humanize-2.6.0-py3-none-any.whl (68kB)\n",
            "\u001b[K    100% |████████████████████████████████| 71kB 8.3MB/s \n",
            "\u001b[?25hInstalling collected packages: humanize\n",
            "Successfully installed humanize-2.6.0\n"
          ],
          "name": "stdout"
        }
      ]
    },
    {
      "cell_type": "markdown",
      "metadata": {
        "id": "Do_VOI790GmZ"
      },
      "source": [
        "# `Load the Complete data and specify the relevant arguments in the graph_data_prep script to create the graph data succesfully`\n",
        "- `Utility to create the graph data and it stores the node features, edge features and the labels in the directory specified by the user`"
      ]
    },
    {
      "cell_type": "code",
      "metadata": {
        "id": "2TzCX_N90KHB",
        "colab": {
          "base_uri": "https://localhost:8080/",
          "height": 67
        },
        "outputId": "9fa75580-d7ae-44f6-9bc3-850e501964f4"
      },
      "source": [
        "from graph_data_prep import *\n",
        "from graph_neural_networks import *\n",
        "\n",
        "config = {'graph_data_path': 'path/to/dave/graph/data',\n",
        "            'smile_data_path_train' : 'path/to/smile_data'}\n",
        "\n",
        "complete_protein_data_2 = pd.read_csv(config['smile_data_path_train'])\n",
        "dataset = MyOwnDataset(config['graph_data_path'])"
      ],
      "execution_count": null,
      "outputs": [
        {
          "output_type": "stream",
          "text": [
            "\r  0%|          | 0/9113 [00:00<?, ?it/s]"
          ],
          "name": "stderr"
        },
        {
          "output_type": "stream",
          "text": [
            "Processing...\n"
          ],
          "name": "stdout"
        },
        {
          "output_type": "stream",
          "text": [
            "100%|██████████| 9113/9113 [34:15<00:00,  4.43it/s]"
          ],
          "name": "stderr"
        },
        {
          "output_type": "stream",
          "text": [
            "Done!\n"
          ],
          "name": "stdout"
        },
        {
          "output_type": "stream",
          "text": [
            "\n"
          ],
          "name": "stderr"
        }
      ]
    },
    {
      "cell_type": "code",
      "metadata": {
        "id": "NP3yDYGR0KBw",
        "colab": {
          "base_uri": "https://localhost:8080/",
          "height": 84
        },
        "outputId": "c518c1b6-d037-4fa7-89d5-1dddf690056b"
      },
      "source": [
        "dataset = dataset.shuffle()\n",
        "one_tenth_length = int(len(dataset) * 0.1)\n",
        "\n",
        "train_dataset = dataset[:one_tenth_length * 9]\n",
        "val_dataset = dataset[one_tenth_length*9 : ]\n",
        "# test_dataset = dataset[one_tenth_length*9:]\n",
        "\n",
        "len(train_dataset), len(val_dataset)\n",
        "# , len(test_dataset)\n",
        "\n",
        "from torch_geometric.data import DataLoader\n",
        "batch_size= 128\n",
        "train_loader = DataLoader(train_dataset, batch_size = batch_size, shuffle=True)\n",
        "val_loader =   DataLoader(val_dataset, batch_size = batch_size, shuffle=True)\n",
        "# test_loader =  DataLoader(test_dataset, batch_size = batch_size, shuffle=True)\n",
        "\n",
        "loader_check = iter(train_loader).next()\n",
        "node, edge = loader_check.x, loader_check.edge_index\n",
        "node.shape, edge.min(), edge.max(), edge.shape"
      ],
      "execution_count": null,
      "outputs": [
        {
          "output_type": "execute_result",
          "data": {
            "text/plain": [
              "(torch.Size([167763, 14]),\n",
              " tensor(0, device='cuda:0'),\n",
              " tensor(167762, device='cuda:0'),\n",
              " torch.Size([2, 342380]))"
            ]
          },
          "metadata": {
            "tags": []
          },
          "execution_count": 42
        }
      ]
    },
    {
      "cell_type": "markdown",
      "metadata": {
        "id": "bETzIK-OtNCz"
      },
      "source": [
        "# New datloader "
      ]
    },
    {
      "cell_type": "code",
      "metadata": {
        "id": "cCGJ58pcycDt"
      },
      "source": [
        "import collections\n",
        "def get_max_length(x):\n",
        "    return len(max(x, key=len))\n",
        "\n",
        "def pad_sequence(seq):\n",
        "    def _pad(_it, _max_len):\n",
        "        return [0] * (_max_len - len(_it)) + _it\n",
        "    return [_pad(it, get_max_length(seq)) for it in seq]\n",
        "\n",
        "def custom_collate(batch):\n",
        "    transposed = zip(*batch)\n",
        "    lst = []\n",
        "    for samples in transposed:\n",
        "        if isinstance(samples[0], int):\n",
        "            lst.append(torch.LongTensor(samples))\n",
        "        elif isinstance(samples[0], float):\n",
        "            lst.append(torch.DoubleTensor(samples))\n",
        "        elif isinstance(samples[0], collections.Sequence):\n",
        "            lst.append(torch.LongTensor(pad_sequence(samples)))\n",
        "    return lst            "
      ],
      "execution_count": null,
      "outputs": []
    },
    {
      "source": [
        "# `Instantiating the train and test data loaders`"
      ],
      "cell_type": "markdown",
      "metadata": {}
    },
    {
      "cell_type": "code",
      "metadata": {
        "id": "bolt1IdLtMEA"
      },
      "source": [
        "from sklearn.model_selection import train_test_split \n",
        "\n",
        "X_train, X_test = train_test_split(complete_protein_data_2, test_size = 0.3)\n",
        "\n",
        "X_train = X_train.reset_index(drop=True)\n",
        "X_test = X_test.reset_index(drop=True)\n",
        "\n",
        "train_dataset = ProtData(X_train,  ring_dict, chiral_centers, hybridization_list, smile_col = 'smile_notation', target_col = 'target_label')\n",
        "validation_data = ProtData(X_test, ring_dict, chiral_centers, hybridization_list,  smile_col = 'smile_notation', target_col = 'target_label')\n",
        "\n",
        "train_loader = DataLoader(train_dataset, batch_size = 32, shuffle=True, collate_fn=custom_collate)\n",
        "val_loader = DataLoader(validation_data, batch_size = 32, shuffle=True, collate_fn=custom_collate)"
      ],
      "execution_count": null,
      "outputs": []
    },
    {
      "source": [],
      "cell_type": "markdown",
      "metadata": {}
    },
    {
      "cell_type": "code",
      "metadata": {
        "id": "lTbgoHZb2mOp",
        "colab": {
          "base_uri": "https://localhost:8080/",
          "height": 17
        },
        "outputId": "5490eabc-c723-4c8d-f52e-5599eef29f7d"
      },
      "source": [
        "from IPython.display import Javascript\n",
        "display(Javascript('''google.colab.output.setIframeHeight(0, true, {maxHeight: 300})'''))\n",
        "\n",
        "# model = GCN(in_channels = in_channels,  hidden_channels = hidden_channels, output_dim = output_dim)\n",
        "# model.to(device)\n",
        "\n",
        "model = SortPool(in_channels,  hidden_channels, output_dim, num_layers = 3)\n",
        "model.to(device)\n",
        "\n",
        "optimizer = torch.optim.Adam(model.parameters(), lr = 0.0001)\n",
        "criterion = torch.nn.CrossEntropyLoss()\n",
        "scheduler = torch.optim.lr_scheduler.ReduceLROnPlateau(optimizer, patience = 5)"
      ],
      "execution_count": null,
      "outputs": [
        {
          "output_type": "display_data",
          "data": {
            "application/javascript": [
              "google.colab.output.setIframeHeight(0, true, {maxHeight: 300})"
            ],
            "text/plain": [
              "<IPython.core.display.Javascript object>"
            ]
          },
          "metadata": {
            "tags": []
          }
        }
      ]
    },
    {
      "cell_type": "code",
      "metadata": {
        "id": "HhozyviG6emG"
      },
      "source": [
        "def train():\n",
        "    epoch_loss = []\n",
        "    model.train()\n",
        "\n",
        "    loop = tqdm(enumerate(train_loader), position=0, leave=True)\n",
        "    for i, data in loop:  # Iterate in batches over the training dataset.\n",
        "         out = model(data.x, data.edge_index, data.batch)  # Perform a single forward pass.\n",
        "         targets = torch.tensor(data.y, dtype= torch.long).to(device)\n",
        "\n",
        "         loss = criterion(out, targets)  # Compute the loss.\n",
        "         loss.backward()  # Derive gradients.\n",
        "         optimizer.step()  # Update parameters based on gradients.\n",
        "         optimizer.zero_grad()\n",
        "         epoch_loss.append(loss.item())\n",
        "\n",
        "        #  # GPU memory usage information \n",
        "        #  GPUs = GPU.getGPUs()\n",
        "        #  gpu = GPUs[0]\n",
        "        #  process = psutil.Process(os.getpid())\n",
        "\n",
        "         loop.set_description(f\"Epoch {epoch +1}/{200}\")\n",
        "         loop.set_postfix(loss = loss.item(), mean_loss = np.mean(epoch_loss))\n",
        "\n",
        "    # scheduler()\n",
        "    scheduler.step(np.mean(epoch_loss))\n",
        "    return np.mean(epoch_loss)\n",
        "\n",
        "from sklearn.metrics import f1_score\n",
        "def test(loader):\n",
        "  model.eval()\n",
        "\n",
        "  correct = 0\n",
        "  loop = tqdm(enumerate(loader), position=0, leave=True)\n",
        "  preds = []\n",
        "  true = []\n",
        "\n",
        "  with torch.no_grad():\n",
        "    for i, data in loop:  # Iterate in batches over the training/test dataset.\n",
        "        out = model(data.x, data.edge_index, data.batch)  \n",
        "        pred = out.argmax(dim = 1)  # Use the class with highest probability.\n",
        "        targets = torch.tensor(data.y, dtype= torch.long).to(device)\n",
        "\n",
        "        preds += pred.to('cpu').numpy().tolist()\n",
        "        true += targets.to('cpu').numpy().tolist()\n",
        "\n",
        "        correct += int((pred == targets).sum())  # Check against ground-truth labels.\n",
        "  \n",
        "  f1 = f1_score(true, preds, average='weighted')\n",
        "  return correct/len(loader.dataset), f1  # Derive ratio of correct predictions."
      ],
      "execution_count": null,
      "outputs": []
    },
    {
      "cell_type": "code",
      "metadata": {
        "id": "zFl3HXbW6ecv",
        "colab": {
          "base_uri": "https://localhost:8080/",
          "height": 1000
        },
        "outputId": "a55e559b-560a-426b-c61b-832687a45e2c"
      },
      "source": [
        "losses = []\n",
        "counter = 0\n",
        "lr = 0.0001\n",
        "for epoch in tqdm(range(0, 200), position = 0, leave = True):\n",
        "    epoch_loss = train()\n",
        "    losses.append(epoch_loss)\n",
        "\n",
        "    if (epoch > 10) :\n",
        "      if (np.round(losses[epoch], 2) >= np.round(losses[epoch - 1], 2)):\n",
        "        counter += 1\n",
        "    \n",
        "    if (counter > 1 and counter%15 == 0):\n",
        "      lr -= lr * 0.1\n",
        "      print(f\"Learning rate has been decreased to {lr}\")\n",
        "      for param_group in optimizer.param_groups:\n",
        "        param_group['lr'] = lr\n",
        "      counter = 0\n",
        "\n",
        "    val_acc, val_f1 = test(val_loader)\n",
        "    print(f'Epoch: {epoch:03d}, Val Acc: {val_acc:.4f} Val f1: {val_f1:.3f} counter : {counter}')"
      ],
      "execution_count": null,
      "outputs": [
        {
          "output_type": "stream",
          "text": [
            "Epoch 1/200: : 65it [00:20,  3.21it/s, loss=1.28, mean_loss=1.33]\n",
            "8it [00:01,  4.27it/s]\n",
            "0it [00:00, ?it/s]"
          ],
          "name": "stderr"
        },
        {
          "output_type": "stream",
          "text": [
            "Epoch: 000, Val Acc: 0.3851 Val f1: 0.214 counter : 0\n"
          ],
          "name": "stdout"
        },
        {
          "output_type": "stream",
          "text": [
            "Epoch 2/200: : 65it [00:19,  3.26it/s, loss=1.21, mean_loss=1.32]\n",
            "8it [00:02,  3.76it/s]\n",
            "0it [00:00, ?it/s]"
          ],
          "name": "stderr"
        },
        {
          "output_type": "stream",
          "text": [
            "Epoch: 001, Val Acc: 0.3851 Val f1: 0.214 counter : 0\n"
          ],
          "name": "stdout"
        },
        {
          "output_type": "stream",
          "text": [
            "Epoch 3/200: : 65it [00:21,  3.02it/s, loss=1.56, mean_loss=1.33]\n",
            "8it [00:01,  4.17it/s]\n",
            "0it [00:00, ?it/s]"
          ],
          "name": "stderr"
        },
        {
          "output_type": "stream",
          "text": [
            "Epoch: 002, Val Acc: 0.3851 Val f1: 0.214 counter : 0\n"
          ],
          "name": "stdout"
        },
        {
          "output_type": "stream",
          "text": [
            "Epoch 4/200: : 65it [00:19,  3.29it/s, loss=1.1, mean_loss=1.32]\n",
            "8it [00:01,  4.28it/s]\n",
            "0it [00:00, ?it/s]"
          ],
          "name": "stderr"
        },
        {
          "output_type": "stream",
          "text": [
            "Epoch: 003, Val Acc: 0.3851 Val f1: 0.214 counter : 0\n"
          ],
          "name": "stdout"
        },
        {
          "output_type": "stream",
          "text": [
            "Epoch 5/200: : 65it [00:19,  3.34it/s, loss=1.41, mean_loss=1.32]\n",
            "8it [00:01,  4.40it/s]\n",
            "0it [00:00, ?it/s]"
          ],
          "name": "stderr"
        },
        {
          "output_type": "stream",
          "text": [
            "Epoch: 004, Val Acc: 0.3851 Val f1: 0.214 counter : 0\n"
          ],
          "name": "stdout"
        },
        {
          "output_type": "stream",
          "text": [
            "Epoch 6/200: : 65it [00:19,  3.31it/s, loss=1.29, mean_loss=1.32]\n",
            "8it [00:01,  4.32it/s]\n",
            "0it [00:00, ?it/s]"
          ],
          "name": "stderr"
        },
        {
          "output_type": "stream",
          "text": [
            "Epoch: 005, Val Acc: 0.3851 Val f1: 0.214 counter : 0\n"
          ],
          "name": "stdout"
        },
        {
          "output_type": "stream",
          "text": [
            "Epoch 7/200: : 65it [00:19,  3.33it/s, loss=1.25, mean_loss=1.31]\n",
            "8it [00:01,  4.30it/s]\n",
            "0it [00:00, ?it/s]"
          ],
          "name": "stderr"
        },
        {
          "output_type": "stream",
          "text": [
            "Epoch: 006, Val Acc: 0.4059 Val f1: 0.294 counter : 0\n"
          ],
          "name": "stdout"
        },
        {
          "output_type": "stream",
          "text": [
            "Epoch 8/200: : 65it [00:19,  3.35it/s, loss=1.1, mean_loss=1.3]\n",
            "8it [00:01,  4.36it/s]\n",
            "0it [00:00, ?it/s]"
          ],
          "name": "stderr"
        },
        {
          "output_type": "stream",
          "text": [
            "Epoch: 007, Val Acc: 0.4190 Val f1: 0.325 counter : 0\n"
          ],
          "name": "stdout"
        },
        {
          "output_type": "stream",
          "text": [
            "Epoch 9/200: : 65it [00:19,  3.36it/s, loss=1.29, mean_loss=1.3]\n",
            "8it [00:01,  4.33it/s]\n",
            "0it [00:00, ?it/s]"
          ],
          "name": "stderr"
        },
        {
          "output_type": "stream",
          "text": [
            "Epoch: 008, Val Acc: 0.4158 Val f1: 0.324 counter : 0\n"
          ],
          "name": "stdout"
        },
        {
          "output_type": "stream",
          "text": [
            "Epoch 10/200: : 65it [00:19,  3.33it/s, loss=1.69, mean_loss=1.3]\n",
            "8it [00:01,  4.42it/s]\n",
            "0it [00:00, ?it/s]"
          ],
          "name": "stderr"
        },
        {
          "output_type": "stream",
          "text": [
            "Epoch: 009, Val Acc: 0.4179 Val f1: 0.330 counter : 0\n"
          ],
          "name": "stdout"
        },
        {
          "output_type": "stream",
          "text": [
            "Epoch 11/200: : 65it [00:19,  3.36it/s, loss=1.38, mean_loss=1.3]\n",
            "8it [00:01,  4.44it/s]\n",
            "0it [00:00, ?it/s]"
          ],
          "name": "stderr"
        },
        {
          "output_type": "stream",
          "text": [
            "Epoch: 010, Val Acc: 0.4168 Val f1: 0.331 counter : 0\n"
          ],
          "name": "stdout"
        },
        {
          "output_type": "stream",
          "text": [
            "Epoch 12/200: : 65it [00:19,  3.36it/s, loss=1.28, mean_loss=1.29]\n",
            "8it [00:01,  4.45it/s]\n",
            "0it [00:00, ?it/s]"
          ],
          "name": "stderr"
        },
        {
          "output_type": "stream",
          "text": [
            "Epoch: 011, Val Acc: 0.4223 Val f1: 0.337 counter : 0\n"
          ],
          "name": "stdout"
        },
        {
          "output_type": "stream",
          "text": [
            "Epoch 13/200: : 65it [00:19,  3.38it/s, loss=1.44, mean_loss=1.29]\n",
            "8it [00:01,  4.35it/s]\n",
            "0it [00:00, ?it/s]"
          ],
          "name": "stderr"
        },
        {
          "output_type": "stream",
          "text": [
            "Epoch: 012, Val Acc: 0.4201 Val f1: 0.342 counter : 1\n"
          ],
          "name": "stdout"
        },
        {
          "output_type": "stream",
          "text": [
            "Epoch 14/200: : 65it [00:19,  3.30it/s, loss=1.31, mean_loss=1.29]\n",
            "8it [00:01,  4.25it/s]\n",
            "0it [00:00, ?it/s]"
          ],
          "name": "stderr"
        },
        {
          "output_type": "stream",
          "text": [
            "Epoch: 013, Val Acc: 0.4245 Val f1: 0.340 counter : 2\n"
          ],
          "name": "stdout"
        },
        {
          "output_type": "stream",
          "text": [
            "Epoch 15/200: : 65it [00:19,  3.33it/s, loss=1.29, mean_loss=1.29]\n",
            "8it [00:01,  4.29it/s]\n",
            "0it [00:00, ?it/s]"
          ],
          "name": "stderr"
        },
        {
          "output_type": "stream",
          "text": [
            "Epoch: 014, Val Acc: 0.4245 Val f1: 0.336 counter : 3\n"
          ],
          "name": "stdout"
        },
        {
          "output_type": "stream",
          "text": [
            "Epoch 16/200: : 65it [00:19,  3.37it/s, loss=1.47, mean_loss=1.29]\n",
            "8it [00:01,  4.28it/s]\n",
            "0it [00:00, ?it/s]"
          ],
          "name": "stderr"
        },
        {
          "output_type": "stream",
          "text": [
            "Epoch: 015, Val Acc: 0.4223 Val f1: 0.344 counter : 4\n"
          ],
          "name": "stdout"
        },
        {
          "output_type": "stream",
          "text": [
            "Epoch 17/200: : 65it [00:20,  3.16it/s, loss=1.41, mean_loss=1.28]\n",
            "8it [00:02,  3.68it/s]\n",
            "0it [00:00, ?it/s]"
          ],
          "name": "stderr"
        },
        {
          "output_type": "stream",
          "text": [
            "Epoch: 016, Val Acc: 0.4212 Val f1: 0.333 counter : 4\n"
          ],
          "name": "stdout"
        },
        {
          "output_type": "stream",
          "text": [
            "Epoch 18/200: : 65it [00:19,  3.30it/s, loss=1.17, mean_loss=1.28]\n",
            "8it [00:01,  4.42it/s]\n",
            "0it [00:00, ?it/s]"
          ],
          "name": "stderr"
        },
        {
          "output_type": "stream",
          "text": [
            "Epoch: 017, Val Acc: 0.4158 Val f1: 0.330 counter : 5\n"
          ],
          "name": "stdout"
        },
        {
          "output_type": "stream",
          "text": [
            "Epoch 19/200: : 65it [00:19,  3.42it/s, loss=1.02, mean_loss=1.27]\n",
            "8it [00:01,  4.49it/s]\n",
            "0it [00:00, ?it/s]"
          ],
          "name": "stderr"
        },
        {
          "output_type": "stream",
          "text": [
            "Epoch: 018, Val Acc: 0.4234 Val f1: 0.346 counter : 5\n"
          ],
          "name": "stdout"
        },
        {
          "output_type": "stream",
          "text": [
            "Epoch 20/200: : 65it [00:18,  3.44it/s, loss=1.56, mean_loss=1.28]\n",
            "8it [00:01,  4.56it/s]\n",
            "0it [00:00, ?it/s]"
          ],
          "name": "stderr"
        },
        {
          "output_type": "stream",
          "text": [
            "Epoch: 019, Val Acc: 0.4190 Val f1: 0.346 counter : 6\n"
          ],
          "name": "stdout"
        },
        {
          "output_type": "stream",
          "text": [
            "Epoch 21/200: : 65it [00:19,  3.38it/s, loss=1.13, mean_loss=1.26]\n",
            "8it [00:01,  4.26it/s]\n",
            "0it [00:00, ?it/s]"
          ],
          "name": "stderr"
        },
        {
          "output_type": "stream",
          "text": [
            "Epoch: 020, Val Acc: 0.4212 Val f1: 0.348 counter : 6\n"
          ],
          "name": "stdout"
        },
        {
          "output_type": "stream",
          "text": [
            "Epoch 22/200: : 65it [00:19,  3.38it/s, loss=0.88, mean_loss=1.26]\n",
            "8it [00:01,  4.42it/s]\n",
            "0it [00:00, ?it/s]"
          ],
          "name": "stderr"
        },
        {
          "output_type": "stream",
          "text": [
            "Epoch: 021, Val Acc: 0.4212 Val f1: 0.345 counter : 7\n"
          ],
          "name": "stdout"
        },
        {
          "output_type": "stream",
          "text": [
            "Epoch 23/200: : 65it [00:18,  3.44it/s, loss=1.11, mean_loss=1.26]\n",
            "8it [00:01,  4.42it/s]\n",
            "0it [00:00, ?it/s]"
          ],
          "name": "stderr"
        },
        {
          "output_type": "stream",
          "text": [
            "Epoch: 022, Val Acc: 0.4256 Val f1: 0.353 counter : 8\n"
          ],
          "name": "stdout"
        },
        {
          "output_type": "stream",
          "text": [
            "Epoch 24/200: : 65it [00:18,  3.43it/s, loss=1.53, mean_loss=1.26]\n",
            "8it [00:01,  4.33it/s]\n",
            "0it [00:00, ?it/s]"
          ],
          "name": "stderr"
        },
        {
          "output_type": "stream",
          "text": [
            "Epoch: 023, Val Acc: 0.4179 Val f1: 0.350 counter : 9\n"
          ],
          "name": "stdout"
        },
        {
          "output_type": "stream",
          "text": [
            "Epoch 25/200: : 65it [00:19,  3.36it/s, loss=1.2, mean_loss=1.26]\n",
            "8it [00:01,  4.52it/s]\n",
            "0it [00:00, ?it/s]"
          ],
          "name": "stderr"
        },
        {
          "output_type": "stream",
          "text": [
            "Epoch: 024, Val Acc: 0.4311 Val f1: 0.355 counter : 10\n"
          ],
          "name": "stdout"
        },
        {
          "output_type": "stream",
          "text": [
            "Epoch 26/200: : 65it [00:19,  3.42it/s, loss=1.3, mean_loss=1.26]\n",
            "8it [00:01,  4.46it/s]\n",
            "0it [00:00, ?it/s]"
          ],
          "name": "stderr"
        },
        {
          "output_type": "stream",
          "text": [
            "Epoch: 025, Val Acc: 0.4223 Val f1: 0.356 counter : 11\n"
          ],
          "name": "stdout"
        },
        {
          "output_type": "stream",
          "text": [
            "Epoch 27/200: : 65it [00:19,  3.41it/s, loss=1.57, mean_loss=1.25]\n",
            "8it [00:01,  4.50it/s]\n",
            "0it [00:00, ?it/s]"
          ],
          "name": "stderr"
        },
        {
          "output_type": "stream",
          "text": [
            "Epoch: 026, Val Acc: 0.4201 Val f1: 0.351 counter : 11\n"
          ],
          "name": "stdout"
        },
        {
          "output_type": "stream",
          "text": [
            "Epoch 28/200: : 65it [00:19,  3.41it/s, loss=1.33, mean_loss=1.25]\n",
            "8it [00:01,  4.37it/s]\n",
            "0it [00:00, ?it/s]"
          ],
          "name": "stderr"
        },
        {
          "output_type": "stream",
          "text": [
            "Epoch: 027, Val Acc: 0.4245 Val f1: 0.357 counter : 12\n"
          ],
          "name": "stdout"
        },
        {
          "output_type": "stream",
          "text": [
            "Epoch 29/200: : 65it [00:19,  3.39it/s, loss=1.33, mean_loss=1.25]\n",
            "8it [00:01,  4.38it/s]\n",
            "0it [00:00, ?it/s]"
          ],
          "name": "stderr"
        },
        {
          "output_type": "stream",
          "text": [
            "Epoch: 028, Val Acc: 0.4300 Val f1: 0.368 counter : 13\n"
          ],
          "name": "stdout"
        },
        {
          "output_type": "stream",
          "text": [
            "Epoch 30/200: : 65it [00:18,  3.43it/s, loss=1.42, mean_loss=1.25]\n",
            "8it [00:01,  4.48it/s]\n",
            "0it [00:00, ?it/s]"
          ],
          "name": "stderr"
        },
        {
          "output_type": "stream",
          "text": [
            "Epoch: 029, Val Acc: 0.4234 Val f1: 0.354 counter : 14\n"
          ],
          "name": "stdout"
        },
        {
          "output_type": "stream",
          "text": [
            "Epoch 31/200: : 65it [00:19,  3.40it/s, loss=1.28, mean_loss=1.24]\n",
            "8it [00:01,  4.33it/s]\n",
            "0it [00:00, ?it/s]"
          ],
          "name": "stderr"
        },
        {
          "output_type": "stream",
          "text": [
            "Epoch: 030, Val Acc: 0.4333 Val f1: 0.369 counter : 14\n"
          ],
          "name": "stdout"
        },
        {
          "output_type": "stream",
          "text": [
            "Epoch 32/200: : 65it [00:19,  3.26it/s, loss=1.66, mean_loss=1.24]\n",
            "0it [00:00, ?it/s]"
          ],
          "name": "stderr"
        },
        {
          "output_type": "stream",
          "text": [
            "Learning rate has been decreased to 9e-05\n"
          ],
          "name": "stdout"
        },
        {
          "output_type": "stream",
          "text": [
            "8it [00:01,  4.26it/s]\n",
            "0it [00:00, ?it/s]"
          ],
          "name": "stderr"
        },
        {
          "output_type": "stream",
          "text": [
            "Epoch: 031, Val Acc: 0.4289 Val f1: 0.362 counter : 0\n"
          ],
          "name": "stdout"
        },
        {
          "output_type": "stream",
          "text": [
            "Epoch 33/200: : 65it [00:19,  3.39it/s, loss=1.24, mean_loss=1.23]\n",
            "8it [00:01,  4.28it/s]\n",
            "0it [00:00, ?it/s]"
          ],
          "name": "stderr"
        },
        {
          "output_type": "stream",
          "text": [
            "Epoch: 032, Val Acc: 0.4365 Val f1: 0.373 counter : 0\n"
          ],
          "name": "stdout"
        },
        {
          "output_type": "stream",
          "text": [
            "Epoch 34/200: : 65it [00:18,  3.44it/s, loss=1.26, mean_loss=1.23]\n",
            "8it [00:01,  4.41it/s]\n",
            "0it [00:00, ?it/s]"
          ],
          "name": "stderr"
        },
        {
          "output_type": "stream",
          "text": [
            "Epoch: 033, Val Acc: 0.4289 Val f1: 0.369 counter : 1\n"
          ],
          "name": "stdout"
        },
        {
          "output_type": "stream",
          "text": [
            "Epoch 35/200: : 65it [00:18,  3.42it/s, loss=1.51, mean_loss=1.23]\n",
            "8it [00:01,  4.57it/s]\n",
            "0it [00:00, ?it/s]"
          ],
          "name": "stderr"
        },
        {
          "output_type": "stream",
          "text": [
            "Epoch: 034, Val Acc: 0.4256 Val f1: 0.371 counter : 2\n"
          ],
          "name": "stdout"
        },
        {
          "output_type": "stream",
          "text": [
            "Epoch 36/200: : 65it [00:18,  3.43it/s, loss=1.12, mean_loss=1.22]\n",
            "8it [00:01,  4.37it/s]\n",
            "0it [00:00, ?it/s]"
          ],
          "name": "stderr"
        },
        {
          "output_type": "stream",
          "text": [
            "Epoch: 035, Val Acc: 0.4387 Val f1: 0.374 counter : 2\n"
          ],
          "name": "stdout"
        },
        {
          "output_type": "stream",
          "text": [
            "Epoch 37/200: : 65it [00:19,  3.40it/s, loss=1.4, mean_loss=1.22]\n",
            "8it [00:01,  4.49it/s]\n",
            "0it [00:00, ?it/s]"
          ],
          "name": "stderr"
        },
        {
          "output_type": "stream",
          "text": [
            "Epoch: 036, Val Acc: 0.4398 Val f1: 0.382 counter : 3\n"
          ],
          "name": "stdout"
        },
        {
          "output_type": "stream",
          "text": [
            "Epoch 38/200: : 65it [00:18,  3.45it/s, loss=1.08, mean_loss=1.22]\n",
            "8it [00:01,  4.51it/s]\n",
            "0it [00:00, ?it/s]"
          ],
          "name": "stderr"
        },
        {
          "output_type": "stream",
          "text": [
            "Epoch: 037, Val Acc: 0.4289 Val f1: 0.374 counter : 4\n"
          ],
          "name": "stdout"
        },
        {
          "output_type": "stream",
          "text": [
            "Epoch 39/200: : 65it [00:18,  3.49it/s, loss=1.28, mean_loss=1.22]\n",
            "8it [00:01,  4.42it/s]\n",
            "0it [00:00, ?it/s]"
          ],
          "name": "stderr"
        },
        {
          "output_type": "stream",
          "text": [
            "Epoch: 038, Val Acc: 0.4311 Val f1: 0.373 counter : 5\n"
          ],
          "name": "stdout"
        },
        {
          "output_type": "stream",
          "text": [
            "Epoch 40/200: : 65it [00:18,  3.45it/s, loss=1.13, mean_loss=1.21]\n",
            "8it [00:01,  4.49it/s]\n",
            "0it [00:00, ?it/s]"
          ],
          "name": "stderr"
        },
        {
          "output_type": "stream",
          "text": [
            "Epoch: 039, Val Acc: 0.4267 Val f1: 0.370 counter : 5\n"
          ],
          "name": "stdout"
        },
        {
          "output_type": "stream",
          "text": [
            "Epoch 41/200: : 65it [00:18,  3.46it/s, loss=1.43, mean_loss=1.22]\n",
            "8it [00:01,  4.56it/s]\n",
            "0it [00:00, ?it/s]"
          ],
          "name": "stderr"
        },
        {
          "output_type": "stream",
          "text": [
            "Epoch: 040, Val Acc: 0.4387 Val f1: 0.372 counter : 6\n"
          ],
          "name": "stdout"
        },
        {
          "output_type": "stream",
          "text": [
            "Epoch 42/200: : 65it [00:18,  3.48it/s, loss=1.14, mean_loss=1.21]\n",
            "8it [00:01,  4.50it/s]\n",
            "0it [00:00, ?it/s]"
          ],
          "name": "stderr"
        },
        {
          "output_type": "stream",
          "text": [
            "Epoch: 041, Val Acc: 0.4387 Val f1: 0.382 counter : 6\n"
          ],
          "name": "stdout"
        },
        {
          "output_type": "stream",
          "text": [
            "Epoch 43/200: : 65it [00:18,  3.47it/s, loss=1.35, mean_loss=1.21]\n",
            "8it [00:01,  4.61it/s]\n",
            "0it [00:00, ?it/s]"
          ],
          "name": "stderr"
        },
        {
          "output_type": "stream",
          "text": [
            "Epoch: 042, Val Acc: 0.4453 Val f1: 0.386 counter : 7\n"
          ],
          "name": "stdout"
        },
        {
          "output_type": "stream",
          "text": [
            "Epoch 44/200: : 65it [00:18,  3.44it/s, loss=1.41, mean_loss=1.21]\n",
            "8it [00:01,  4.40it/s]\n",
            "0it [00:00, ?it/s]"
          ],
          "name": "stderr"
        },
        {
          "output_type": "stream",
          "text": [
            "Epoch: 043, Val Acc: 0.4464 Val f1: 0.393 counter : 8\n"
          ],
          "name": "stdout"
        },
        {
          "output_type": "stream",
          "text": [
            "Epoch 45/200: : 65it [00:18,  3.45it/s, loss=1.15, mean_loss=1.2]\n",
            "8it [00:01,  4.50it/s]\n",
            "0it [00:00, ?it/s]"
          ],
          "name": "stderr"
        },
        {
          "output_type": "stream",
          "text": [
            "Epoch: 044, Val Acc: 0.4442 Val f1: 0.387 counter : 8\n"
          ],
          "name": "stdout"
        },
        {
          "output_type": "stream",
          "text": [
            "Epoch 46/200: : 65it [00:19,  3.38it/s, loss=1.33, mean_loss=1.2]\n",
            "8it [00:01,  4.61it/s]\n",
            "0it [00:00, ?it/s]"
          ],
          "name": "stderr"
        },
        {
          "output_type": "stream",
          "text": [
            "Epoch: 045, Val Acc: 0.4344 Val f1: 0.379 counter : 9\n"
          ],
          "name": "stdout"
        },
        {
          "output_type": "stream",
          "text": [
            "Epoch 47/200: : 65it [00:19,  3.27it/s, loss=1.36, mean_loss=1.2]\n",
            "8it [00:01,  4.44it/s]\n",
            "0it [00:00, ?it/s]"
          ],
          "name": "stderr"
        },
        {
          "output_type": "stream",
          "text": [
            "Epoch: 046, Val Acc: 0.4398 Val f1: 0.382 counter : 10\n"
          ],
          "name": "stdout"
        },
        {
          "output_type": "stream",
          "text": [
            "Epoch 48/200: : 65it [00:18,  3.46it/s, loss=1.31, mean_loss=1.2]\n",
            "8it [00:01,  4.35it/s]\n",
            "0it [00:00, ?it/s]"
          ],
          "name": "stderr"
        },
        {
          "output_type": "stream",
          "text": [
            "Epoch: 047, Val Acc: 0.4453 Val f1: 0.388 counter : 11\n"
          ],
          "name": "stdout"
        },
        {
          "output_type": "stream",
          "text": [
            "Epoch 49/200: : 65it [00:18,  3.45it/s, loss=1.06, mean_loss=1.19]\n",
            "8it [00:01,  4.59it/s]\n",
            "0it [00:00, ?it/s]"
          ],
          "name": "stderr"
        },
        {
          "output_type": "stream",
          "text": [
            "Epoch: 048, Val Acc: 0.4354 Val f1: 0.380 counter : 11\n"
          ],
          "name": "stdout"
        },
        {
          "output_type": "stream",
          "text": [
            "Epoch 50/200: : 65it [00:18,  3.46it/s, loss=1.21, mean_loss=1.19]\n",
            "8it [00:01,  4.48it/s]\n",
            "0it [00:00, ?it/s]"
          ],
          "name": "stderr"
        },
        {
          "output_type": "stream",
          "text": [
            "Epoch: 049, Val Acc: 0.4333 Val f1: 0.374 counter : 12\n"
          ],
          "name": "stdout"
        },
        {
          "output_type": "stream",
          "text": [
            "Epoch 51/200: : 65it [00:18,  3.49it/s, loss=0.926, mean_loss=1.18]\n",
            "8it [00:01,  4.50it/s]\n",
            "0it [00:00, ?it/s]"
          ],
          "name": "stderr"
        },
        {
          "output_type": "stream",
          "text": [
            "Epoch: 050, Val Acc: 0.4376 Val f1: 0.377 counter : 12\n"
          ],
          "name": "stdout"
        },
        {
          "output_type": "stream",
          "text": [
            "Epoch 52/200: : 65it [00:18,  3.46it/s, loss=1.49, mean_loss=1.19]\n",
            "8it [00:01,  4.54it/s]\n",
            "0it [00:00, ?it/s]"
          ],
          "name": "stderr"
        },
        {
          "output_type": "stream",
          "text": [
            "Epoch: 051, Val Acc: 0.4333 Val f1: 0.381 counter : 13\n"
          ],
          "name": "stdout"
        },
        {
          "output_type": "stream",
          "text": [
            "Epoch 53/200: : 65it [00:18,  3.46it/s, loss=1.35, mean_loss=1.19]\n",
            "8it [00:01,  4.62it/s]\n",
            "0it [00:00, ?it/s]"
          ],
          "name": "stderr"
        },
        {
          "output_type": "stream",
          "text": [
            "Epoch: 052, Val Acc: 0.4475 Val f1: 0.394 counter : 14\n"
          ],
          "name": "stdout"
        },
        {
          "output_type": "stream",
          "text": [
            "Epoch 54/200: : 65it [00:18,  3.45it/s, loss=1.18, mean_loss=1.18]\n",
            "8it [00:01,  4.54it/s]\n",
            "0it [00:00, ?it/s]"
          ],
          "name": "stderr"
        },
        {
          "output_type": "stream",
          "text": [
            "Epoch: 053, Val Acc: 0.4398 Val f1: 0.386 counter : 14\n"
          ],
          "name": "stdout"
        },
        {
          "output_type": "stream",
          "text": [
            "Epoch 55/200: : 65it [00:18,  3.46it/s, loss=1.27, mean_loss=1.18]\n",
            "0it [00:00, ?it/s]"
          ],
          "name": "stderr"
        },
        {
          "output_type": "stream",
          "text": [
            "Learning rate has been decreased to 8.1e-05\n"
          ],
          "name": "stdout"
        },
        {
          "output_type": "stream",
          "text": [
            "8it [00:01,  4.50it/s]\n",
            "0it [00:00, ?it/s]"
          ],
          "name": "stderr"
        },
        {
          "output_type": "stream",
          "text": [
            "Epoch: 054, Val Acc: 0.4453 Val f1: 0.395 counter : 0\n"
          ],
          "name": "stdout"
        },
        {
          "output_type": "stream",
          "text": [
            "Epoch 56/200: : 65it [00:18,  3.44it/s, loss=1.14, mean_loss=1.17]\n",
            "8it [00:01,  4.58it/s]\n",
            "0it [00:00, ?it/s]"
          ],
          "name": "stderr"
        },
        {
          "output_type": "stream",
          "text": [
            "Epoch: 055, Val Acc: 0.4398 Val f1: 0.392 counter : 0\n"
          ],
          "name": "stdout"
        },
        {
          "output_type": "stream",
          "text": [
            "Epoch 57/200: : 65it [00:18,  3.46it/s, loss=1.02, mean_loss=1.17]\n",
            "8it [00:01,  4.52it/s]\n",
            "0it [00:00, ?it/s]"
          ],
          "name": "stderr"
        },
        {
          "output_type": "stream",
          "text": [
            "Epoch: 056, Val Acc: 0.4365 Val f1: 0.383 counter : 1\n"
          ],
          "name": "stdout"
        },
        {
          "output_type": "stream",
          "text": [
            "Epoch 58/200: : 65it [00:18,  3.47it/s, loss=1.17, mean_loss=1.16]\n",
            "8it [00:01,  4.44it/s]\n",
            "0it [00:00, ?it/s]"
          ],
          "name": "stderr"
        },
        {
          "output_type": "stream",
          "text": [
            "Epoch: 057, Val Acc: 0.4453 Val f1: 0.395 counter : 1\n"
          ],
          "name": "stdout"
        },
        {
          "output_type": "stream",
          "text": [
            "Epoch 59/200: : 65it [00:18,  3.44it/s, loss=1.15, mean_loss=1.16]\n",
            "8it [00:01,  4.54it/s]\n",
            "0it [00:00, ?it/s]"
          ],
          "name": "stderr"
        },
        {
          "output_type": "stream",
          "text": [
            "Epoch: 058, Val Acc: 0.4464 Val f1: 0.400 counter : 2\n"
          ],
          "name": "stdout"
        },
        {
          "output_type": "stream",
          "text": [
            "Epoch 60/200: : 65it [00:18,  3.44it/s, loss=1.4, mean_loss=1.16]\n",
            "8it [00:01,  4.41it/s]\n",
            "0it [00:00, ?it/s]"
          ],
          "name": "stderr"
        },
        {
          "output_type": "stream",
          "text": [
            "Epoch: 059, Val Acc: 0.4344 Val f1: 0.387 counter : 3\n"
          ],
          "name": "stdout"
        },
        {
          "output_type": "stream",
          "text": [
            "Epoch 61/200: : 65it [00:19,  3.42it/s, loss=1.53, mean_loss=1.16]\n",
            "8it [00:01,  4.56it/s]\n",
            "0it [00:00, ?it/s]"
          ],
          "name": "stderr"
        },
        {
          "output_type": "stream",
          "text": [
            "Epoch: 060, Val Acc: 0.4530 Val f1: 0.406 counter : 4\n"
          ],
          "name": "stdout"
        },
        {
          "output_type": "stream",
          "text": [
            "Epoch 62/200: : 65it [00:19,  3.27it/s, loss=1.35, mean_loss=1.16]\n",
            "8it [00:01,  4.30it/s]\n",
            "0it [00:00, ?it/s]"
          ],
          "name": "stderr"
        },
        {
          "output_type": "stream",
          "text": [
            "Epoch: 061, Val Acc: 0.4431 Val f1: 0.394 counter : 5\n"
          ],
          "name": "stdout"
        },
        {
          "output_type": "stream",
          "text": [
            "Epoch 63/200: : 65it [00:18,  3.46it/s, loss=0.807, mean_loss=1.15]\n",
            "8it [00:01,  4.43it/s]\n",
            "0it [00:00, ?it/s]"
          ],
          "name": "stderr"
        },
        {
          "output_type": "stream",
          "text": [
            "Epoch: 062, Val Acc: 0.4431 Val f1: 0.393 counter : 5\n"
          ],
          "name": "stdout"
        },
        {
          "output_type": "stream",
          "text": [
            "Epoch 64/200: : 65it [00:18,  3.43it/s, loss=0.788, mean_loss=1.15]\n",
            "8it [00:01,  4.54it/s]\n",
            "0it [00:00, ?it/s]"
          ],
          "name": "stderr"
        },
        {
          "output_type": "stream",
          "text": [
            "Epoch: 063, Val Acc: 0.4442 Val f1: 0.390 counter : 6\n"
          ],
          "name": "stdout"
        },
        {
          "output_type": "stream",
          "text": [
            "Epoch 65/200: : 65it [00:18,  3.47it/s, loss=1.31, mean_loss=1.15]\n",
            "8it [00:01,  4.57it/s]\n",
            "0it [00:00, ?it/s]"
          ],
          "name": "stderr"
        },
        {
          "output_type": "stream",
          "text": [
            "Epoch: 064, Val Acc: 0.4486 Val f1: 0.399 counter : 7\n"
          ],
          "name": "stdout"
        },
        {
          "output_type": "stream",
          "text": [
            "Epoch 66/200: : 65it [00:18,  3.46it/s, loss=1.26, mean_loss=1.15]\n",
            "8it [00:01,  4.61it/s]\n",
            "0it [00:00, ?it/s]"
          ],
          "name": "stderr"
        },
        {
          "output_type": "stream",
          "text": [
            "Epoch: 065, Val Acc: 0.4475 Val f1: 0.400 counter : 8\n"
          ],
          "name": "stdout"
        },
        {
          "output_type": "stream",
          "text": [
            "Epoch 67/200: : 65it [00:18,  3.48it/s, loss=1.06, mean_loss=1.15]\n",
            "8it [00:01,  4.52it/s]\n",
            "0it [00:00, ?it/s]"
          ],
          "name": "stderr"
        },
        {
          "output_type": "stream",
          "text": [
            "Epoch: 066, Val Acc: 0.4431 Val f1: 0.392 counter : 9\n"
          ],
          "name": "stdout"
        },
        {
          "output_type": "stream",
          "text": [
            "Epoch 68/200: : 65it [00:18,  3.44it/s, loss=1.03, mean_loss=1.14]\n",
            "8it [00:01,  4.55it/s]\n",
            "0it [00:00, ?it/s]"
          ],
          "name": "stderr"
        },
        {
          "output_type": "stream",
          "text": [
            "Epoch: 067, Val Acc: 0.4595 Val f1: 0.410 counter : 9\n"
          ],
          "name": "stdout"
        },
        {
          "output_type": "stream",
          "text": [
            "Epoch 69/200: : 65it [00:18,  3.46it/s, loss=1.1, mean_loss=1.14]\n",
            "8it [00:01,  4.59it/s]\n",
            "0it [00:00, ?it/s]"
          ],
          "name": "stderr"
        },
        {
          "output_type": "stream",
          "text": [
            "Epoch: 068, Val Acc: 0.4551 Val f1: 0.410 counter : 10\n"
          ],
          "name": "stdout"
        },
        {
          "output_type": "stream",
          "text": [
            "Epoch 70/200: : 65it [00:18,  3.47it/s, loss=1.68, mean_loss=1.15]\n",
            "8it [00:01,  4.52it/s]\n",
            "0it [00:00, ?it/s]"
          ],
          "name": "stderr"
        },
        {
          "output_type": "stream",
          "text": [
            "Epoch: 069, Val Acc: 0.4453 Val f1: 0.399 counter : 11\n"
          ],
          "name": "stdout"
        },
        {
          "output_type": "stream",
          "text": [
            "Epoch 71/200: : 65it [00:18,  3.47it/s, loss=0.904, mean_loss=1.13]\n",
            "8it [00:01,  4.51it/s]\n",
            "0it [00:00, ?it/s]"
          ],
          "name": "stderr"
        },
        {
          "output_type": "stream",
          "text": [
            "Epoch: 070, Val Acc: 0.4431 Val f1: 0.397 counter : 11\n"
          ],
          "name": "stdout"
        },
        {
          "output_type": "stream",
          "text": [
            "Epoch 72/200: : 65it [00:18,  3.44it/s, loss=1.37, mean_loss=1.13]\n",
            "8it [00:01,  4.57it/s]\n",
            "0it [00:00, ?it/s]"
          ],
          "name": "stderr"
        },
        {
          "output_type": "stream",
          "text": [
            "Epoch: 071, Val Acc: 0.4464 Val f1: 0.398 counter : 12\n"
          ],
          "name": "stdout"
        },
        {
          "output_type": "stream",
          "text": [
            "Epoch 73/200: : 65it [00:18,  3.44it/s, loss=0.755, mean_loss=1.13]\n",
            "8it [00:01,  4.49it/s]\n",
            "0it [00:00, ?it/s]"
          ],
          "name": "stderr"
        },
        {
          "output_type": "stream",
          "text": [
            "Epoch: 072, Val Acc: 0.4551 Val f1: 0.407 counter : 13\n"
          ],
          "name": "stdout"
        },
        {
          "output_type": "stream",
          "text": [
            "Epoch 74/200: : 65it [00:18,  3.48it/s, loss=1.17, mean_loss=1.13]\n",
            "8it [00:01,  4.61it/s]\n",
            "0it [00:00, ?it/s]"
          ],
          "name": "stderr"
        },
        {
          "output_type": "stream",
          "text": [
            "Epoch: 073, Val Acc: 0.4540 Val f1: 0.408 counter : 14\n"
          ],
          "name": "stdout"
        },
        {
          "output_type": "stream",
          "text": [
            "Epoch 75/200: : 65it [00:19,  3.37it/s, loss=1.16, mean_loss=1.13]\n",
            "0it [00:00, ?it/s]"
          ],
          "name": "stderr"
        },
        {
          "output_type": "stream",
          "text": [
            "Learning rate has been decreased to 7.290000000000001e-05\n"
          ],
          "name": "stdout"
        },
        {
          "output_type": "stream",
          "text": [
            "8it [00:01,  4.15it/s]\n",
            "0it [00:00, ?it/s]"
          ],
          "name": "stderr"
        },
        {
          "output_type": "stream",
          "text": [
            "Epoch: 074, Val Acc: 0.4475 Val f1: 0.404 counter : 0\n"
          ],
          "name": "stdout"
        },
        {
          "output_type": "stream",
          "text": [
            "Epoch 76/200: : 65it [00:18,  3.44it/s, loss=0.96, mean_loss=1.12]\n",
            "8it [00:01,  4.37it/s]\n",
            "0it [00:00, ?it/s]"
          ],
          "name": "stderr"
        },
        {
          "output_type": "stream",
          "text": [
            "Epoch: 075, Val Acc: 0.4562 Val f1: 0.407 counter : 0\n"
          ],
          "name": "stdout"
        },
        {
          "output_type": "stream",
          "text": [
            "Epoch 77/200: : 65it [00:19,  3.27it/s, loss=1.2, mean_loss=1.13]\n",
            "8it [00:01,  4.37it/s]\n",
            "0it [00:00, ?it/s]"
          ],
          "name": "stderr"
        },
        {
          "output_type": "stream",
          "text": [
            "Epoch: 076, Val Acc: 0.4540 Val f1: 0.410 counter : 1\n"
          ],
          "name": "stdout"
        },
        {
          "output_type": "stream",
          "text": [
            "Epoch 78/200: : 65it [00:18,  3.47it/s, loss=1.1, mean_loss=1.12]\n",
            "8it [00:01,  4.61it/s]\n",
            "0it [00:00, ?it/s]"
          ],
          "name": "stderr"
        },
        {
          "output_type": "stream",
          "text": [
            "Epoch: 077, Val Acc: 0.4519 Val f1: 0.407 counter : 1\n"
          ],
          "name": "stdout"
        },
        {
          "output_type": "stream",
          "text": [
            "Epoch 79/200: : 65it [00:18,  3.42it/s, loss=1.37, mean_loss=1.12]\n",
            "8it [00:01,  4.44it/s]\n",
            "0it [00:00, ?it/s]"
          ],
          "name": "stderr"
        },
        {
          "output_type": "stream",
          "text": [
            "Epoch: 078, Val Acc: 0.4551 Val f1: 0.410 counter : 2\n"
          ],
          "name": "stdout"
        },
        {
          "output_type": "stream",
          "text": [
            "Epoch 80/200: : 65it [00:18,  3.48it/s, loss=2.03, mean_loss=1.14]\n",
            "8it [00:01,  4.33it/s]\n",
            "0it [00:00, ?it/s]"
          ],
          "name": "stderr"
        },
        {
          "output_type": "stream",
          "text": [
            "Epoch: 079, Val Acc: 0.4508 Val f1: 0.406 counter : 3\n"
          ],
          "name": "stdout"
        },
        {
          "output_type": "stream",
          "text": [
            "Epoch 81/200: : 65it [00:18,  3.46it/s, loss=1.09, mean_loss=1.12]\n",
            "8it [00:01,  4.55it/s]\n",
            "0it [00:00, ?it/s]"
          ],
          "name": "stderr"
        },
        {
          "output_type": "stream",
          "text": [
            "Epoch: 080, Val Acc: 0.4442 Val f1: 0.401 counter : 3\n"
          ],
          "name": "stdout"
        },
        {
          "output_type": "stream",
          "text": [
            "Epoch 82/200: : 65it [00:18,  3.47it/s, loss=1.35, mean_loss=1.11]\n",
            "8it [00:01,  4.47it/s]\n",
            "0it [00:00, ?it/s]"
          ],
          "name": "stderr"
        },
        {
          "output_type": "stream",
          "text": [
            "Epoch: 081, Val Acc: 0.4540 Val f1: 0.412 counter : 3\n"
          ],
          "name": "stdout"
        },
        {
          "output_type": "stream",
          "text": [
            "Epoch 83/200: : 65it [00:18,  3.42it/s, loss=1.06, mean_loss=1.11]\n",
            "8it [00:01,  4.37it/s]\n",
            "0it [00:00, ?it/s]"
          ],
          "name": "stderr"
        },
        {
          "output_type": "stream",
          "text": [
            "Epoch: 082, Val Acc: 0.4519 Val f1: 0.407 counter : 4\n"
          ],
          "name": "stdout"
        },
        {
          "output_type": "stream",
          "text": [
            "Epoch 84/200: : 65it [00:18,  3.48it/s, loss=0.674, mean_loss=1.1]\n",
            "8it [00:01,  4.58it/s]\n",
            "0it [00:00, ?it/s]"
          ],
          "name": "stderr"
        },
        {
          "output_type": "stream",
          "text": [
            "Epoch: 083, Val Acc: 0.4486 Val f1: 0.406 counter : 4\n"
          ],
          "name": "stdout"
        },
        {
          "output_type": "stream",
          "text": [
            "Epoch 85/200: : 65it [00:18,  3.47it/s, loss=1.24, mean_loss=1.11]\n",
            "8it [00:01,  4.65it/s]\n",
            "0it [00:00, ?it/s]"
          ],
          "name": "stderr"
        },
        {
          "output_type": "stream",
          "text": [
            "Epoch: 084, Val Acc: 0.4464 Val f1: 0.408 counter : 5\n"
          ],
          "name": "stdout"
        },
        {
          "output_type": "stream",
          "text": [
            "Epoch 86/200: : 65it [00:18,  3.46it/s, loss=2.13, mean_loss=1.12]\n",
            "8it [00:01,  4.47it/s]\n",
            "0it [00:00, ?it/s]"
          ],
          "name": "stderr"
        },
        {
          "output_type": "stream",
          "text": [
            "Epoch: 085, Val Acc: 0.4486 Val f1: 0.403 counter : 6\n"
          ],
          "name": "stdout"
        },
        {
          "output_type": "stream",
          "text": [
            "Epoch 87/200: : 65it [00:19,  3.40it/s, loss=1.63, mean_loss=1.11]\n",
            "8it [00:01,  4.51it/s]\n",
            "0it [00:00, ?it/s]"
          ],
          "name": "stderr"
        },
        {
          "output_type": "stream",
          "text": [
            "Epoch: 086, Val Acc: 0.4551 Val f1: 0.414 counter : 6\n"
          ],
          "name": "stdout"
        },
        {
          "output_type": "stream",
          "text": [
            "Epoch 88/200: : 65it [00:18,  3.45it/s, loss=0.93, mean_loss=1.1]\n",
            "8it [00:01,  4.47it/s]\n",
            "0it [00:00, ?it/s]"
          ],
          "name": "stderr"
        },
        {
          "output_type": "stream",
          "text": [
            "Epoch: 087, Val Acc: 0.4464 Val f1: 0.407 counter : 6\n"
          ],
          "name": "stdout"
        },
        {
          "output_type": "stream",
          "text": [
            "Epoch 89/200: : 65it [00:18,  3.46it/s, loss=1.32, mean_loss=1.1]\n",
            "8it [00:01,  4.34it/s]\n",
            "0it [00:00, ?it/s]"
          ],
          "name": "stderr"
        },
        {
          "output_type": "stream",
          "text": [
            "Epoch: 088, Val Acc: 0.4497 Val f1: 0.411 counter : 7\n"
          ],
          "name": "stdout"
        },
        {
          "output_type": "stream",
          "text": [
            "Epoch 90/200: : 65it [00:19,  3.42it/s, loss=1.53, mean_loss=1.11]\n",
            "8it [00:01,  4.55it/s]\n",
            "0it [00:00, ?it/s]"
          ],
          "name": "stderr"
        },
        {
          "output_type": "stream",
          "text": [
            "Epoch: 089, Val Acc: 0.4486 Val f1: 0.411 counter : 8\n"
          ],
          "name": "stdout"
        },
        {
          "output_type": "stream",
          "text": [
            "Epoch 91/200: : 65it [00:18,  3.46it/s, loss=1.6, mean_loss=1.11]\n",
            "8it [00:01,  4.53it/s]\n",
            "0it [00:00, ?it/s]"
          ],
          "name": "stderr"
        },
        {
          "output_type": "stream",
          "text": [
            "Epoch: 090, Val Acc: 0.4540 Val f1: 0.413 counter : 9\n"
          ],
          "name": "stdout"
        },
        {
          "output_type": "stream",
          "text": [
            "Epoch 92/200: : 65it [00:19,  3.25it/s, loss=1.22, mean_loss=1.1]\n",
            "8it [00:01,  4.29it/s]\n",
            "0it [00:00, ?it/s]"
          ],
          "name": "stderr"
        },
        {
          "output_type": "stream",
          "text": [
            "Epoch: 091, Val Acc: 0.4508 Val f1: 0.409 counter : 9\n"
          ],
          "name": "stdout"
        },
        {
          "output_type": "stream",
          "text": [
            "Epoch 93/200: : 65it [00:18,  3.49it/s, loss=1.07, mean_loss=1.09]\n",
            "8it [00:01,  4.57it/s]\n",
            "0it [00:00, ?it/s]"
          ],
          "name": "stderr"
        },
        {
          "output_type": "stream",
          "text": [
            "Epoch: 092, Val Acc: 0.4486 Val f1: 0.410 counter : 9\n"
          ],
          "name": "stdout"
        },
        {
          "output_type": "stream",
          "text": [
            "Epoch 94/200: : 65it [00:18,  3.46it/s, loss=1.07, mean_loss=1.09]\n",
            "8it [00:01,  4.52it/s]\n",
            "0it [00:00, ?it/s]"
          ],
          "name": "stderr"
        },
        {
          "output_type": "stream",
          "text": [
            "Epoch: 093, Val Acc: 0.4508 Val f1: 0.415 counter : 10\n"
          ],
          "name": "stdout"
        },
        {
          "output_type": "stream",
          "text": [
            "Epoch 95/200: : 65it [00:19,  3.41it/s, loss=1.01, mean_loss=1.09]\n",
            "8it [00:01,  4.46it/s]\n",
            "0it [00:00, ?it/s]"
          ],
          "name": "stderr"
        },
        {
          "output_type": "stream",
          "text": [
            "Epoch: 094, Val Acc: 0.4617 Val f1: 0.423 counter : 11\n"
          ],
          "name": "stdout"
        },
        {
          "output_type": "stream",
          "text": [
            "Epoch 96/200: : 65it [00:18,  3.46it/s, loss=1.18, mean_loss=1.08]\n",
            "8it [00:01,  4.52it/s]\n",
            "0it [00:00, ?it/s]"
          ],
          "name": "stderr"
        },
        {
          "output_type": "stream",
          "text": [
            "Epoch: 095, Val Acc: 0.4497 Val f1: 0.414 counter : 11\n"
          ],
          "name": "stdout"
        },
        {
          "output_type": "stream",
          "text": [
            "Epoch 97/200: : 65it [00:18,  3.47it/s, loss=0.74, mean_loss=1.08]\n",
            "8it [00:01,  4.56it/s]\n",
            "0it [00:00, ?it/s]"
          ],
          "name": "stderr"
        },
        {
          "output_type": "stream",
          "text": [
            "Epoch: 096, Val Acc: 0.4508 Val f1: 0.414 counter : 12\n"
          ],
          "name": "stdout"
        },
        {
          "output_type": "stream",
          "text": [
            "Epoch 98/200: : 65it [00:18,  3.47it/s, loss=1.24, mean_loss=1.09]\n",
            "8it [00:01,  4.61it/s]\n",
            "0it [00:00, ?it/s]"
          ],
          "name": "stderr"
        },
        {
          "output_type": "stream",
          "text": [
            "Epoch: 097, Val Acc: 0.4497 Val f1: 0.413 counter : 13\n"
          ],
          "name": "stdout"
        },
        {
          "output_type": "stream",
          "text": [
            "Epoch 99/200: : 65it [00:18,  3.45it/s, loss=2.01, mean_loss=1.1]\n",
            "8it [00:01,  4.51it/s]\n",
            "0it [00:00, ?it/s]"
          ],
          "name": "stderr"
        },
        {
          "output_type": "stream",
          "text": [
            "Epoch: 098, Val Acc: 0.4508 Val f1: 0.416 counter : 14\n"
          ],
          "name": "stdout"
        },
        {
          "output_type": "stream",
          "text": [
            "Epoch 100/200: : 65it [00:18,  3.49it/s, loss=1.76, mean_loss=1.09]\n",
            "8it [00:01,  4.54it/s]\n",
            "0it [00:00, ?it/s]"
          ],
          "name": "stderr"
        },
        {
          "output_type": "stream",
          "text": [
            "Epoch: 099, Val Acc: 0.4387 Val f1: 0.406 counter : 14\n"
          ],
          "name": "stdout"
        },
        {
          "output_type": "stream",
          "text": [
            "Epoch 101/200: : 65it [00:18,  3.49it/s, loss=1.31, mean_loss=1.08]\n",
            "8it [00:01,  4.62it/s]\n",
            "0it [00:00, ?it/s]"
          ],
          "name": "stderr"
        },
        {
          "output_type": "stream",
          "text": [
            "Epoch: 100, Val Acc: 0.4431 Val f1: 0.405 counter : 14\n"
          ],
          "name": "stdout"
        },
        {
          "output_type": "stream",
          "text": [
            "Epoch 102/200: : 65it [00:18,  3.47it/s, loss=1.25, mean_loss=1.08]\n",
            "0it [00:00, ?it/s]"
          ],
          "name": "stderr"
        },
        {
          "output_type": "stream",
          "text": [
            "Learning rate has been decreased to 6.561e-05\n"
          ],
          "name": "stdout"
        },
        {
          "output_type": "stream",
          "text": [
            "8it [00:01,  4.59it/s]\n",
            "0it [00:00, ?it/s]"
          ],
          "name": "stderr"
        },
        {
          "output_type": "stream",
          "text": [
            "Epoch: 101, Val Acc: 0.4464 Val f1: 0.414 counter : 0\n"
          ],
          "name": "stdout"
        },
        {
          "output_type": "stream",
          "text": [
            "Epoch 103/200: : 65it [00:18,  3.47it/s, loss=0.787, mean_loss=1.07]\n",
            "8it [00:01,  4.42it/s]\n",
            "0it [00:00, ?it/s]"
          ],
          "name": "stderr"
        },
        {
          "output_type": "stream",
          "text": [
            "Epoch: 102, Val Acc: 0.4409 Val f1: 0.404 counter : 0\n"
          ],
          "name": "stdout"
        },
        {
          "output_type": "stream",
          "text": [
            "Epoch 104/200: : 65it [00:18,  3.47it/s, loss=1.38, mean_loss=1.07]\n",
            "8it [00:01,  4.50it/s]\n",
            "0it [00:00, ?it/s]"
          ],
          "name": "stderr"
        },
        {
          "output_type": "stream",
          "text": [
            "Epoch: 103, Val Acc: 0.4398 Val f1: 0.401 counter : 1\n"
          ],
          "name": "stdout"
        },
        {
          "output_type": "stream",
          "text": [
            "Epoch 105/200: : 65it [00:19,  3.41it/s, loss=0.914, mean_loss=1.06]\n",
            "8it [00:01,  4.57it/s]\n",
            "0it [00:00, ?it/s]"
          ],
          "name": "stderr"
        },
        {
          "output_type": "stream",
          "text": [
            "Epoch: 104, Val Acc: 0.4497 Val f1: 0.416 counter : 1\n"
          ],
          "name": "stdout"
        },
        {
          "output_type": "stream",
          "text": [
            "Epoch 106/200: : 65it [00:18,  3.47it/s, loss=0.806, mean_loss=1.06]\n",
            "8it [00:01,  4.48it/s]\n",
            "0it [00:00, ?it/s]"
          ],
          "name": "stderr"
        },
        {
          "output_type": "stream",
          "text": [
            "Epoch: 105, Val Acc: 0.4398 Val f1: 0.402 counter : 2\n"
          ],
          "name": "stdout"
        },
        {
          "output_type": "stream",
          "text": [
            "Epoch 107/200: : 65it [00:19,  3.31it/s, loss=0.95, mean_loss=1.06]\n",
            "8it [00:01,  4.03it/s]\n",
            "0it [00:00, ?it/s]"
          ],
          "name": "stderr"
        },
        {
          "output_type": "stream",
          "text": [
            "Epoch: 106, Val Acc: 0.4453 Val f1: 0.408 counter : 3\n"
          ],
          "name": "stdout"
        },
        {
          "output_type": "stream",
          "text": [
            "Epoch 108/200: : 65it [00:18,  3.47it/s, loss=1.08, mean_loss=1.07]\n",
            "8it [00:01,  4.53it/s]\n",
            "0it [00:00, ?it/s]"
          ],
          "name": "stderr"
        },
        {
          "output_type": "stream",
          "text": [
            "Epoch: 107, Val Acc: 0.4431 Val f1: 0.410 counter : 4\n"
          ],
          "name": "stdout"
        },
        {
          "output_type": "stream",
          "text": [
            "Epoch 109/200: : 65it [00:18,  3.47it/s, loss=1.88, mean_loss=1.08]\n",
            "8it [00:01,  4.50it/s]\n",
            "0it [00:00, ?it/s]"
          ],
          "name": "stderr"
        },
        {
          "output_type": "stream",
          "text": [
            "Epoch: 108, Val Acc: 0.4475 Val f1: 0.413 counter : 5\n"
          ],
          "name": "stdout"
        },
        {
          "output_type": "stream",
          "text": [
            "Epoch 110/200: : 65it [00:18,  3.46it/s, loss=2.01, mean_loss=1.07]\n",
            "8it [00:01,  4.53it/s]\n",
            "0it [00:00, ?it/s]"
          ],
          "name": "stderr"
        },
        {
          "output_type": "stream",
          "text": [
            "Epoch: 109, Val Acc: 0.4464 Val f1: 0.409 counter : 5\n"
          ],
          "name": "stdout"
        },
        {
          "output_type": "stream",
          "text": [
            "Epoch 111/200: : 65it [00:18,  3.47it/s, loss=0.914, mean_loss=1.06]\n",
            "8it [00:01,  4.55it/s]\n",
            "0it [00:00, ?it/s]"
          ],
          "name": "stderr"
        },
        {
          "output_type": "stream",
          "text": [
            "Epoch: 110, Val Acc: 0.4486 Val f1: 0.414 counter : 5\n"
          ],
          "name": "stdout"
        },
        {
          "output_type": "stream",
          "text": [
            "Epoch 112/200: : 65it [00:18,  3.50it/s, loss=0.787, mean_loss=1.05]\n",
            "8it [00:01,  4.51it/s]\n",
            "0it [00:00, ?it/s]"
          ],
          "name": "stderr"
        },
        {
          "output_type": "stream",
          "text": [
            "Epoch: 111, Val Acc: 0.4464 Val f1: 0.412 counter : 5\n"
          ],
          "name": "stdout"
        },
        {
          "output_type": "stream",
          "text": [
            "Epoch 113/200: : 65it [00:18,  3.46it/s, loss=1.05, mean_loss=1.05]\n",
            "8it [00:01,  4.54it/s]\n",
            "0it [00:00, ?it/s]"
          ],
          "name": "stderr"
        },
        {
          "output_type": "stream",
          "text": [
            "Epoch: 112, Val Acc: 0.4420 Val f1: 0.409 counter : 6\n"
          ],
          "name": "stdout"
        },
        {
          "output_type": "stream",
          "text": [
            "Epoch 114/200: : 65it [00:18,  3.47it/s, loss=1.01, mean_loss=1.04]\n",
            "8it [00:01,  4.44it/s]\n",
            "0it [00:00, ?it/s]"
          ],
          "name": "stderr"
        },
        {
          "output_type": "stream",
          "text": [
            "Epoch: 113, Val Acc: 0.4398 Val f1: 0.407 counter : 6\n"
          ],
          "name": "stdout"
        },
        {
          "output_type": "stream",
          "text": [
            "Epoch 115/200: : 65it [00:18,  3.46it/s, loss=1.24, mean_loss=1.05]\n",
            "8it [00:01,  4.18it/s]\n",
            "0it [00:00, ?it/s]"
          ],
          "name": "stderr"
        },
        {
          "output_type": "stream",
          "text": [
            "Epoch: 114, Val Acc: 0.4354 Val f1: 0.402 counter : 7\n"
          ],
          "name": "stdout"
        },
        {
          "output_type": "stream",
          "text": [
            "Epoch 116/200: : 65it [00:18,  3.45it/s, loss=1.2, mean_loss=1.05]\n",
            "8it [00:01,  4.55it/s]\n",
            "0it [00:00, ?it/s]"
          ],
          "name": "stderr"
        },
        {
          "output_type": "stream",
          "text": [
            "Epoch: 115, Val Acc: 0.4376 Val f1: 0.406 counter : 8\n"
          ],
          "name": "stdout"
        },
        {
          "output_type": "stream",
          "text": [
            "Epoch 117/200: : 65it [00:18,  3.47it/s, loss=1.14, mean_loss=1.04]\n",
            "8it [00:01,  4.40it/s]\n",
            "0it [00:00, ?it/s]"
          ],
          "name": "stderr"
        },
        {
          "output_type": "stream",
          "text": [
            "Epoch: 116, Val Acc: 0.4398 Val f1: 0.408 counter : 8\n"
          ],
          "name": "stdout"
        },
        {
          "output_type": "stream",
          "text": [
            "Epoch 118/200: : 65it [00:19,  3.41it/s, loss=0.682, mean_loss=1.04]\n",
            "8it [00:01,  4.24it/s]\n",
            "0it [00:00, ?it/s]"
          ],
          "name": "stderr"
        },
        {
          "output_type": "stream",
          "text": [
            "Epoch: 117, Val Acc: 0.4365 Val f1: 0.404 counter : 9\n"
          ],
          "name": "stdout"
        },
        {
          "output_type": "stream",
          "text": [
            "Epoch 119/200: : 65it [00:19,  3.38it/s, loss=1.25, mean_loss=1.05]\n",
            "8it [00:01,  4.49it/s]\n",
            "0it [00:00, ?it/s]"
          ],
          "name": "stderr"
        },
        {
          "output_type": "stream",
          "text": [
            "Epoch: 118, Val Acc: 0.4365 Val f1: 0.403 counter : 10\n"
          ],
          "name": "stdout"
        },
        {
          "output_type": "stream",
          "text": [
            "Epoch 120/200: : 65it [00:19,  3.36it/s, loss=0.828, mean_loss=1.04]\n",
            "8it [00:01,  4.44it/s]\n",
            "0it [00:00, ?it/s]"
          ],
          "name": "stderr"
        },
        {
          "output_type": "stream",
          "text": [
            "Epoch: 119, Val Acc: 0.4354 Val f1: 0.403 counter : 10\n"
          ],
          "name": "stdout"
        },
        {
          "output_type": "stream",
          "text": [
            "Epoch 121/200: : 65it [00:18,  3.44it/s, loss=1.37, mean_loss=1.05]\n",
            "8it [00:01,  4.32it/s]\n",
            "0it [00:00, ?it/s]"
          ],
          "name": "stderr"
        },
        {
          "output_type": "stream",
          "text": [
            "Epoch: 120, Val Acc: 0.4322 Val f1: 0.398 counter : 11\n"
          ],
          "name": "stdout"
        },
        {
          "output_type": "stream",
          "text": [
            "Epoch 122/200: : 65it [00:20,  3.20it/s, loss=1.11, mean_loss=1.05]\n",
            "8it [00:02,  3.86it/s]\n",
            "0it [00:00, ?it/s]"
          ],
          "name": "stderr"
        },
        {
          "output_type": "stream",
          "text": [
            "Epoch: 121, Val Acc: 0.4365 Val f1: 0.403 counter : 12\n"
          ],
          "name": "stdout"
        },
        {
          "output_type": "stream",
          "text": [
            "Epoch 123/200: : 65it [00:19,  3.42it/s, loss=1.66, mean_loss=1.05]\n",
            "8it [00:01,  4.43it/s]\n",
            "0it [00:00, ?it/s]"
          ],
          "name": "stderr"
        },
        {
          "output_type": "stream",
          "text": [
            "Epoch: 122, Val Acc: 0.4365 Val f1: 0.403 counter : 13\n"
          ],
          "name": "stdout"
        },
        {
          "output_type": "stream",
          "text": [
            "Epoch 124/200: : 65it [00:19,  3.36it/s, loss=0.682, mean_loss=1.04]\n",
            "8it [00:01,  4.47it/s]\n",
            "0it [00:00, ?it/s]"
          ],
          "name": "stderr"
        },
        {
          "output_type": "stream",
          "text": [
            "Epoch: 123, Val Acc: 0.4365 Val f1: 0.402 counter : 13\n"
          ],
          "name": "stdout"
        },
        {
          "output_type": "stream",
          "text": [
            "Epoch 125/200: : 65it [00:19,  3.40it/s, loss=1.19, mean_loss=1.05]\n",
            "8it [00:01,  4.43it/s]\n",
            "0it [00:00, ?it/s]"
          ],
          "name": "stderr"
        },
        {
          "output_type": "stream",
          "text": [
            "Epoch: 124, Val Acc: 0.4354 Val f1: 0.402 counter : 14\n"
          ],
          "name": "stdout"
        },
        {
          "output_type": "stream",
          "text": [
            "Epoch 126/200: : 65it [00:19,  3.33it/s, loss=0.625, mean_loss=1.03]\n",
            "8it [00:01,  4.41it/s]\n",
            "0it [00:00, ?it/s]"
          ],
          "name": "stderr"
        },
        {
          "output_type": "stream",
          "text": [
            "Epoch: 125, Val Acc: 0.4365 Val f1: 0.402 counter : 14\n"
          ],
          "name": "stdout"
        },
        {
          "output_type": "stream",
          "text": [
            "Epoch 127/200: : 65it [00:19,  3.38it/s, loss=0.93, mean_loss=1.03]\n",
            "0it [00:00, ?it/s]"
          ],
          "name": "stderr"
        },
        {
          "output_type": "stream",
          "text": [
            "Learning rate has been decreased to 5.9049e-05\n"
          ],
          "name": "stdout"
        },
        {
          "output_type": "stream",
          "text": [
            "8it [00:01,  4.34it/s]\n",
            "0it [00:00, ?it/s]"
          ],
          "name": "stderr"
        },
        {
          "output_type": "stream",
          "text": [
            "Epoch: 126, Val Acc: 0.4376 Val f1: 0.403 counter : 0\n"
          ],
          "name": "stdout"
        },
        {
          "output_type": "stream",
          "text": [
            "Epoch 128/200: : 65it [00:19,  3.36it/s, loss=0.926, mean_loss=1.05]\n",
            "8it [00:01,  4.38it/s]\n",
            "0it [00:00, ?it/s]"
          ],
          "name": "stderr"
        },
        {
          "output_type": "stream",
          "text": [
            "Epoch: 127, Val Acc: 0.4354 Val f1: 0.402 counter : 1\n"
          ],
          "name": "stdout"
        },
        {
          "output_type": "stream",
          "text": [
            "Epoch 129/200: : 65it [00:19,  3.37it/s, loss=1.17, mean_loss=1.05]\n",
            "8it [00:01,  4.31it/s]\n",
            "0it [00:00, ?it/s]"
          ],
          "name": "stderr"
        },
        {
          "output_type": "stream",
          "text": [
            "Epoch: 128, Val Acc: 0.4398 Val f1: 0.406 counter : 2\n"
          ],
          "name": "stdout"
        },
        {
          "output_type": "stream",
          "text": [
            "Epoch 130/200: : 65it [00:19,  3.36it/s, loss=1.33, mean_loss=1.05]\n",
            "8it [00:01,  4.12it/s]\n",
            "0it [00:00, ?it/s]"
          ],
          "name": "stderr"
        },
        {
          "output_type": "stream",
          "text": [
            "Epoch: 129, Val Acc: 0.4398 Val f1: 0.404 counter : 3\n"
          ],
          "name": "stdout"
        },
        {
          "output_type": "stream",
          "text": [
            "Epoch 131/200: : 65it [00:19,  3.39it/s, loss=1.03, mean_loss=1.05]\n",
            "8it [00:01,  4.48it/s]\n",
            "0it [00:00, ?it/s]"
          ],
          "name": "stderr"
        },
        {
          "output_type": "stream",
          "text": [
            "Epoch: 130, Val Acc: 0.4420 Val f1: 0.406 counter : 4\n"
          ],
          "name": "stdout"
        },
        {
          "output_type": "stream",
          "text": [
            "Epoch 132/200: : 65it [00:19,  3.41it/s, loss=0.947, mean_loss=1.04]\n",
            "8it [00:01,  4.47it/s]\n",
            "0it [00:00, ?it/s]"
          ],
          "name": "stderr"
        },
        {
          "output_type": "stream",
          "text": [
            "Epoch: 131, Val Acc: 0.4431 Val f1: 0.409 counter : 4\n"
          ],
          "name": "stdout"
        },
        {
          "output_type": "stream",
          "text": [
            "Epoch 133/200: : 65it [00:19,  3.39it/s, loss=0.739, mean_loss=1.04]\n",
            "8it [00:01,  4.41it/s]\n",
            "0it [00:00, ?it/s]"
          ],
          "name": "stderr"
        },
        {
          "output_type": "stream",
          "text": [
            "Epoch: 132, Val Acc: 0.4486 Val f1: 0.415 counter : 5\n"
          ],
          "name": "stdout"
        },
        {
          "output_type": "stream",
          "text": [
            "Epoch 134/200: : 65it [00:19,  3.33it/s, loss=1.59, mean_loss=1.04]\n",
            "8it [00:01,  4.48it/s]\n",
            "0it [00:00, ?it/s]"
          ],
          "name": "stderr"
        },
        {
          "output_type": "stream",
          "text": [
            "Epoch: 133, Val Acc: 0.4431 Val f1: 0.411 counter : 6\n"
          ],
          "name": "stdout"
        },
        {
          "output_type": "stream",
          "text": [
            "Epoch 135/200: : 65it [00:19,  3.37it/s, loss=0.877, mean_loss=1.03]\n",
            "8it [00:01,  4.36it/s]\n",
            "0it [00:00, ?it/s]"
          ],
          "name": "stderr"
        },
        {
          "output_type": "stream",
          "text": [
            "Epoch: 134, Val Acc: 0.4497 Val f1: 0.416 counter : 6\n"
          ],
          "name": "stdout"
        },
        {
          "output_type": "stream",
          "text": [
            "Epoch 136/200: : 65it [00:19,  3.33it/s, loss=1.43, mean_loss=1.04]\n",
            "8it [00:01,  4.44it/s]\n",
            "0it [00:00, ?it/s]"
          ],
          "name": "stderr"
        },
        {
          "output_type": "stream",
          "text": [
            "Epoch: 135, Val Acc: 0.4464 Val f1: 0.415 counter : 7\n"
          ],
          "name": "stdout"
        },
        {
          "output_type": "stream",
          "text": [
            "Epoch 137/200: : 65it [00:20,  3.13it/s, loss=1.2, mean_loss=1.04]\n",
            "8it [00:01,  4.20it/s]\n",
            "0it [00:00, ?it/s]"
          ],
          "name": "stderr"
        },
        {
          "output_type": "stream",
          "text": [
            "Epoch: 136, Val Acc: 0.4464 Val f1: 0.415 counter : 8\n"
          ],
          "name": "stdout"
        },
        {
          "output_type": "stream",
          "text": [
            "Epoch 138/200: : 65it [00:19,  3.32it/s, loss=0.763, mean_loss=1.03]\n",
            "8it [00:01,  4.23it/s]\n",
            "0it [00:00, ?it/s]"
          ],
          "name": "stderr"
        },
        {
          "output_type": "stream",
          "text": [
            "Epoch: 137, Val Acc: 0.4475 Val f1: 0.415 counter : 8\n"
          ],
          "name": "stdout"
        },
        {
          "output_type": "stream",
          "text": [
            "Epoch 139/200: : 65it [00:19,  3.35it/s, loss=0.95, mean_loss=1.04]\n",
            "8it [00:01,  4.34it/s]\n",
            "0it [00:00, ?it/s]"
          ],
          "name": "stderr"
        },
        {
          "output_type": "stream",
          "text": [
            "Epoch: 138, Val Acc: 0.4453 Val f1: 0.414 counter : 9\n"
          ],
          "name": "stdout"
        },
        {
          "output_type": "stream",
          "text": [
            "Epoch 140/200: : 65it [00:19,  3.37it/s, loss=1.12, mean_loss=1.03]\n",
            "8it [00:01,  4.48it/s]\n",
            "0it [00:00, ?it/s]"
          ],
          "name": "stderr"
        },
        {
          "output_type": "stream",
          "text": [
            "Epoch: 139, Val Acc: 0.4464 Val f1: 0.413 counter : 9\n"
          ],
          "name": "stdout"
        },
        {
          "output_type": "stream",
          "text": [
            "Epoch 141/200: : 65it [00:19,  3.36it/s, loss=1.12, mean_loss=1.03]\n",
            "8it [00:01,  4.35it/s]\n",
            "0it [00:00, ?it/s]"
          ],
          "name": "stderr"
        },
        {
          "output_type": "stream",
          "text": [
            "Epoch: 140, Val Acc: 0.4464 Val f1: 0.414 counter : 10\n"
          ],
          "name": "stdout"
        },
        {
          "output_type": "stream",
          "text": [
            "Epoch 142/200: : 65it [00:19,  3.37it/s, loss=1.29, mean_loss=1.04]\n",
            "8it [00:01,  4.49it/s]\n",
            "0it [00:00, ?it/s]"
          ],
          "name": "stderr"
        },
        {
          "output_type": "stream",
          "text": [
            "Epoch: 141, Val Acc: 0.4420 Val f1: 0.409 counter : 11\n"
          ],
          "name": "stdout"
        },
        {
          "output_type": "stream",
          "text": [
            "Epoch 143/200: : 65it [00:19,  3.42it/s, loss=0.92, mean_loss=1.02]\n",
            "8it [00:01,  4.46it/s]\n",
            "0it [00:00, ?it/s]"
          ],
          "name": "stderr"
        },
        {
          "output_type": "stream",
          "text": [
            "Epoch: 142, Val Acc: 0.4464 Val f1: 0.414 counter : 11\n"
          ],
          "name": "stdout"
        },
        {
          "output_type": "stream",
          "text": [
            "Epoch 144/200: : 65it [00:19,  3.37it/s, loss=1.35, mean_loss=1.03]\n",
            "8it [00:01,  4.29it/s]\n",
            "0it [00:00, ?it/s]"
          ],
          "name": "stderr"
        },
        {
          "output_type": "stream",
          "text": [
            "Epoch: 143, Val Acc: 0.4442 Val f1: 0.412 counter : 12\n"
          ],
          "name": "stdout"
        },
        {
          "output_type": "stream",
          "text": [
            "Epoch 145/200: : 65it [00:19,  3.27it/s, loss=1.75, mean_loss=1.05]\n",
            "8it [00:01,  4.25it/s]\n",
            "0it [00:00, ?it/s]"
          ],
          "name": "stderr"
        },
        {
          "output_type": "stream",
          "text": [
            "Epoch: 144, Val Acc: 0.4453 Val f1: 0.412 counter : 13\n"
          ],
          "name": "stdout"
        },
        {
          "output_type": "stream",
          "text": [
            "Epoch 146/200: : 65it [00:19,  3.34it/s, loss=1.62, mean_loss=1.03]\n",
            "8it [00:01,  4.34it/s]\n",
            "0it [00:00, ?it/s]"
          ],
          "name": "stderr"
        },
        {
          "output_type": "stream",
          "text": [
            "Epoch: 145, Val Acc: 0.4453 Val f1: 0.412 counter : 13\n"
          ],
          "name": "stdout"
        },
        {
          "output_type": "stream",
          "text": [
            "Epoch 147/200: : 65it [00:19,  3.32it/s, loss=0.995, mean_loss=1.03]\n",
            "8it [00:01,  4.35it/s]\n",
            "0it [00:00, ?it/s]"
          ],
          "name": "stderr"
        },
        {
          "output_type": "stream",
          "text": [
            "Epoch: 146, Val Acc: 0.4442 Val f1: 0.411 counter : 14\n"
          ],
          "name": "stdout"
        },
        {
          "output_type": "stream",
          "text": [
            "Epoch 148/200: : 65it [00:19,  3.26it/s, loss=0.653, mean_loss=1.03]\n",
            "0it [00:00, ?it/s]"
          ],
          "name": "stderr"
        },
        {
          "output_type": "stream",
          "text": [
            "Learning rate has been decreased to 5.3144100000000005e-05\n"
          ],
          "name": "stdout"
        },
        {
          "output_type": "stream",
          "text": [
            "8it [00:02,  3.81it/s]\n",
            "0it [00:00, ?it/s]"
          ],
          "name": "stderr"
        },
        {
          "output_type": "stream",
          "text": [
            "Epoch: 147, Val Acc: 0.4442 Val f1: 0.411 counter : 0\n"
          ],
          "name": "stdout"
        },
        {
          "output_type": "stream",
          "text": [
            "Epoch 149/200: : 65it [00:20,  3.25it/s, loss=0.92, mean_loss=1.03]\n",
            "8it [00:01,  4.16it/s]\n",
            "0it [00:00, ?it/s]"
          ],
          "name": "stderr"
        },
        {
          "output_type": "stream",
          "text": [
            "Epoch: 148, Val Acc: 0.4376 Val f1: 0.412 counter : 1\n"
          ],
          "name": "stdout"
        },
        {
          "output_type": "stream",
          "text": [
            "Epoch 150/200: : 65it [00:20,  3.24it/s, loss=1.15, mean_loss=1.04]\n",
            "8it [00:01,  4.18it/s]\n",
            "0it [00:00, ?it/s]"
          ],
          "name": "stderr"
        },
        {
          "output_type": "stream",
          "text": [
            "Epoch: 149, Val Acc: 0.4442 Val f1: 0.416 counter : 2\n"
          ],
          "name": "stdout"
        },
        {
          "output_type": "stream",
          "text": [
            "Epoch 151/200: : 65it [00:20,  3.11it/s, loss=0.826, mean_loss=1.03]\n",
            "8it [00:02,  3.60it/s]\n",
            "0it [00:00, ?it/s]"
          ],
          "name": "stderr"
        },
        {
          "output_type": "stream",
          "text": [
            "Epoch: 150, Val Acc: 0.4453 Val f1: 0.415 counter : 2\n"
          ],
          "name": "stdout"
        },
        {
          "output_type": "stream",
          "text": [
            "Epoch 152/200: : 65it [00:20,  3.20it/s, loss=1.06, mean_loss=1.04]\n",
            "8it [00:01,  4.16it/s]\n",
            "0it [00:00, ?it/s]"
          ],
          "name": "stderr"
        },
        {
          "output_type": "stream",
          "text": [
            "Epoch: 151, Val Acc: 0.4442 Val f1: 0.411 counter : 3\n"
          ],
          "name": "stdout"
        },
        {
          "output_type": "stream",
          "text": [
            "Epoch 153/200: : 65it [00:20,  3.24it/s, loss=0.99, mean_loss=1.02]\n",
            "8it [00:01,  4.22it/s]\n",
            "0it [00:00, ?it/s]"
          ],
          "name": "stderr"
        },
        {
          "output_type": "stream",
          "text": [
            "Epoch: 152, Val Acc: 0.4409 Val f1: 0.409 counter : 3\n"
          ],
          "name": "stdout"
        },
        {
          "output_type": "stream",
          "text": [
            "Epoch 154/200: : 65it [00:20,  3.25it/s, loss=1.36, mean_loss=1.03]\n",
            "8it [00:01,  4.09it/s]\n",
            "0it [00:00, ?it/s]"
          ],
          "name": "stderr"
        },
        {
          "output_type": "stream",
          "text": [
            "Epoch: 153, Val Acc: 0.4409 Val f1: 0.408 counter : 4\n"
          ],
          "name": "stdout"
        },
        {
          "output_type": "stream",
          "text": [
            "Epoch 155/200: : 65it [00:20,  3.21it/s, loss=0.789, mean_loss=1.02]\n",
            "8it [00:01,  4.08it/s]\n",
            "0it [00:00, ?it/s]"
          ],
          "name": "stderr"
        },
        {
          "output_type": "stream",
          "text": [
            "Epoch: 154, Val Acc: 0.4442 Val f1: 0.413 counter : 4\n"
          ],
          "name": "stdout"
        },
        {
          "output_type": "stream",
          "text": [
            "Epoch 156/200: : 65it [00:20,  3.18it/s, loss=0.872, mean_loss=1.03]\n",
            "8it [00:01,  4.15it/s]\n",
            "0it [00:00, ?it/s]"
          ],
          "name": "stderr"
        },
        {
          "output_type": "stream",
          "text": [
            "Epoch: 155, Val Acc: 0.4409 Val f1: 0.409 counter : 5\n"
          ],
          "name": "stdout"
        },
        {
          "output_type": "stream",
          "text": [
            "Epoch 157/200: : 65it [00:20,  3.24it/s, loss=2.16, mean_loss=1.04]\n",
            "8it [00:01,  4.16it/s]\n",
            "0it [00:00, ?it/s]"
          ],
          "name": "stderr"
        },
        {
          "output_type": "stream",
          "text": [
            "Epoch: 156, Val Acc: 0.4398 Val f1: 0.408 counter : 6\n"
          ],
          "name": "stdout"
        },
        {
          "output_type": "stream",
          "text": [
            "Epoch 158/200: : 65it [00:20,  3.19it/s, loss=1.45, mean_loss=1.03]\n",
            "8it [00:01,  4.19it/s]\n",
            "0it [00:00, ?it/s]"
          ],
          "name": "stderr"
        },
        {
          "output_type": "stream",
          "text": [
            "Epoch: 157, Val Acc: 0.4387 Val f1: 0.407 counter : 6\n"
          ],
          "name": "stdout"
        },
        {
          "output_type": "stream",
          "text": [
            "Epoch 159/200: : 65it [00:20,  3.21it/s, loss=2.91, mean_loss=1.05]\n",
            "8it [00:01,  4.01it/s]\n",
            "0it [00:00, ?it/s]"
          ],
          "name": "stderr"
        },
        {
          "output_type": "stream",
          "text": [
            "Epoch: 158, Val Acc: 0.4442 Val f1: 0.412 counter : 7\n"
          ],
          "name": "stdout"
        },
        {
          "output_type": "stream",
          "text": [
            "Epoch 160/200: : 65it [00:20,  3.20it/s, loss=1.51, mean_loss=1.03]\n",
            "8it [00:01,  4.18it/s]\n",
            "0it [00:00, ?it/s]"
          ],
          "name": "stderr"
        },
        {
          "output_type": "stream",
          "text": [
            "Epoch: 159, Val Acc: 0.4431 Val f1: 0.411 counter : 7\n"
          ],
          "name": "stdout"
        },
        {
          "output_type": "stream",
          "text": [
            "Epoch 161/200: : 65it [00:20,  3.22it/s, loss=1.36, mean_loss=1.03]\n",
            "8it [00:01,  4.12it/s]\n",
            "0it [00:00, ?it/s]"
          ],
          "name": "stderr"
        },
        {
          "output_type": "stream",
          "text": [
            "Epoch: 160, Val Acc: 0.4387 Val f1: 0.407 counter : 8\n"
          ],
          "name": "stdout"
        },
        {
          "output_type": "stream",
          "text": [
            "Epoch 162/200: : 65it [00:20,  3.15it/s, loss=1.54, mean_loss=1.03]\n",
            "8it [00:01,  4.02it/s]\n",
            "0it [00:00, ?it/s]"
          ],
          "name": "stderr"
        },
        {
          "output_type": "stream",
          "text": [
            "Epoch: 161, Val Acc: 0.4431 Val f1: 0.411 counter : 9\n"
          ],
          "name": "stdout"
        },
        {
          "output_type": "stream",
          "text": [
            "Epoch 163/200: : 65it [00:20,  3.18it/s, loss=0.725, mean_loss=1.02]\n",
            "8it [00:01,  4.15it/s]\n",
            "0it [00:00, ?it/s]"
          ],
          "name": "stderr"
        },
        {
          "output_type": "stream",
          "text": [
            "Epoch: 162, Val Acc: 0.4431 Val f1: 0.411 counter : 9\n"
          ],
          "name": "stdout"
        },
        {
          "output_type": "stream",
          "text": [
            "Epoch 164/200: : 65it [00:20,  3.20it/s, loss=1.31, mean_loss=1.04]\n",
            "8it [00:01,  4.21it/s]\n",
            "0it [00:00, ?it/s]"
          ],
          "name": "stderr"
        },
        {
          "output_type": "stream",
          "text": [
            "Epoch: 163, Val Acc: 0.4420 Val f1: 0.410 counter : 10\n"
          ],
          "name": "stdout"
        },
        {
          "output_type": "stream",
          "text": [
            "Epoch 165/200: : 65it [00:21,  3.04it/s, loss=0.809, mean_loss=1.03]\n",
            "8it [00:02,  3.76it/s]\n",
            "0it [00:00, ?it/s]"
          ],
          "name": "stderr"
        },
        {
          "output_type": "stream",
          "text": [
            "Epoch: 164, Val Acc: 0.4420 Val f1: 0.410 counter : 10\n"
          ],
          "name": "stdout"
        },
        {
          "output_type": "stream",
          "text": [
            "Epoch 166/200: : 65it [00:20,  3.20it/s, loss=1.34, mean_loss=1.03]\n",
            "8it [00:01,  4.10it/s]\n",
            "0it [00:00, ?it/s]"
          ],
          "name": "stderr"
        },
        {
          "output_type": "stream",
          "text": [
            "Epoch: 165, Val Acc: 0.4431 Val f1: 0.411 counter : 11\n"
          ],
          "name": "stdout"
        },
        {
          "output_type": "stream",
          "text": [
            "Epoch 167/200: : 65it [00:20,  3.19it/s, loss=0.918, mean_loss=1.02]\n",
            "8it [00:01,  4.14it/s]\n",
            "0it [00:00, ?it/s]"
          ],
          "name": "stderr"
        },
        {
          "output_type": "stream",
          "text": [
            "Epoch: 166, Val Acc: 0.4420 Val f1: 0.410 counter : 11\n"
          ],
          "name": "stdout"
        },
        {
          "output_type": "stream",
          "text": [
            "Epoch 168/200: : 65it [00:20,  3.19it/s, loss=1.02, mean_loss=1.03]\n",
            "8it [00:01,  4.22it/s]\n",
            "0it [00:00, ?it/s]"
          ],
          "name": "stderr"
        },
        {
          "output_type": "stream",
          "text": [
            "Epoch: 167, Val Acc: 0.4420 Val f1: 0.410 counter : 12\n"
          ],
          "name": "stdout"
        },
        {
          "output_type": "stream",
          "text": [
            "Epoch 169/200: : 65it [00:20,  3.21it/s, loss=0.826, mean_loss=1.02]\n",
            "8it [00:01,  4.08it/s]\n",
            "0it [00:00, ?it/s]"
          ],
          "name": "stderr"
        },
        {
          "output_type": "stream",
          "text": [
            "Epoch: 168, Val Acc: 0.4420 Val f1: 0.410 counter : 12\n"
          ],
          "name": "stdout"
        },
        {
          "output_type": "stream",
          "text": [
            "Epoch 170/200: : 65it [00:20,  3.18it/s, loss=1.61, mean_loss=1.04]\n",
            "8it [00:01,  4.16it/s]\n",
            "0it [00:00, ?it/s]"
          ],
          "name": "stderr"
        },
        {
          "output_type": "stream",
          "text": [
            "Epoch: 169, Val Acc: 0.4420 Val f1: 0.410 counter : 13\n"
          ],
          "name": "stdout"
        },
        {
          "output_type": "stream",
          "text": [
            "Epoch 171/200: : 65it [00:20,  3.19it/s, loss=1.01, mean_loss=1.02]\n",
            "8it [00:01,  4.10it/s]\n",
            "0it [00:00, ?it/s]"
          ],
          "name": "stderr"
        },
        {
          "output_type": "stream",
          "text": [
            "Epoch: 170, Val Acc: 0.4420 Val f1: 0.410 counter : 13\n"
          ],
          "name": "stdout"
        },
        {
          "output_type": "stream",
          "text": [
            "Epoch 172/200: : 65it [00:20,  3.17it/s, loss=2.43, mean_loss=1.04]\n",
            "8it [00:01,  4.01it/s]\n",
            "0it [00:00, ?it/s]"
          ],
          "name": "stderr"
        },
        {
          "output_type": "stream",
          "text": [
            "Epoch: 171, Val Acc: 0.4420 Val f1: 0.410 counter : 14\n"
          ],
          "name": "stdout"
        },
        {
          "output_type": "stream",
          "text": [
            "Epoch 173/200: : 65it [00:20,  3.19it/s, loss=0.891, mean_loss=1.02]\n",
            "8it [00:01,  4.11it/s]\n",
            "0it [00:00, ?it/s]"
          ],
          "name": "stderr"
        },
        {
          "output_type": "stream",
          "text": [
            "Epoch: 172, Val Acc: 0.4420 Val f1: 0.410 counter : 14\n"
          ],
          "name": "stdout"
        },
        {
          "output_type": "stream",
          "text": [
            "Epoch 174/200: : 65it [00:20,  3.16it/s, loss=0.841, mean_loss=1.02]\n",
            "0it [00:00, ?it/s]"
          ],
          "name": "stderr"
        },
        {
          "output_type": "stream",
          "text": [
            "Learning rate has been decreased to 4.7829690000000007e-05\n"
          ],
          "name": "stdout"
        },
        {
          "output_type": "stream",
          "text": [
            "8it [00:01,  4.11it/s]\n",
            "0it [00:00, ?it/s]"
          ],
          "name": "stderr"
        },
        {
          "output_type": "stream",
          "text": [
            "Epoch: 173, Val Acc: 0.4420 Val f1: 0.410 counter : 0\n"
          ],
          "name": "stdout"
        },
        {
          "output_type": "stream",
          "text": [
            "Epoch 175/200: : 65it [00:20,  3.19it/s, loss=1.12, mean_loss=1.04]\n",
            "8it [00:01,  4.03it/s]\n",
            "0it [00:00, ?it/s]"
          ],
          "name": "stderr"
        },
        {
          "output_type": "stream",
          "text": [
            "Epoch: 174, Val Acc: 0.4442 Val f1: 0.411 counter : 1\n"
          ],
          "name": "stdout"
        },
        {
          "output_type": "stream",
          "text": [
            "Epoch 176/200: : 65it [00:20,  3.13it/s, loss=0.669, mean_loss=1.03]\n",
            "8it [00:02,  3.99it/s]\n",
            "0it [00:00, ?it/s]"
          ],
          "name": "stderr"
        },
        {
          "output_type": "stream",
          "text": [
            "Epoch: 175, Val Acc: 0.4431 Val f1: 0.412 counter : 1\n"
          ],
          "name": "stdout"
        },
        {
          "output_type": "stream",
          "text": [
            "Epoch 177/200: : 65it [00:20,  3.15it/s, loss=0.731, mean_loss=1.03]\n",
            "8it [00:01,  4.07it/s]\n",
            "0it [00:00, ?it/s]"
          ],
          "name": "stderr"
        },
        {
          "output_type": "stream",
          "text": [
            "Epoch: 176, Val Acc: 0.4387 Val f1: 0.408 counter : 2\n"
          ],
          "name": "stdout"
        },
        {
          "output_type": "stream",
          "text": [
            "Epoch 178/200: : 65it [00:20,  3.17it/s, loss=1.36, mean_loss=1.03]\n",
            "8it [00:02,  3.99it/s]\n",
            "0it [00:00, ?it/s]"
          ],
          "name": "stderr"
        },
        {
          "output_type": "stream",
          "text": [
            "Epoch: 177, Val Acc: 0.4486 Val f1: 0.417 counter : 3\n"
          ],
          "name": "stdout"
        },
        {
          "output_type": "stream",
          "text": [
            "Epoch 179/200: : 65it [00:21,  2.98it/s, loss=0.915, mean_loss=1.03]\n",
            "8it [00:01,  4.14it/s]\n",
            "0it [00:00, ?it/s]"
          ],
          "name": "stderr"
        },
        {
          "output_type": "stream",
          "text": [
            "Epoch: 178, Val Acc: 0.4475 Val f1: 0.414 counter : 4\n"
          ],
          "name": "stdout"
        },
        {
          "output_type": "stream",
          "text": [
            "Epoch 180/200: : 65it [00:20,  3.18it/s, loss=1.09, mean_loss=1.03]\n",
            "8it [00:01,  4.18it/s]\n",
            "0it [00:00, ?it/s]"
          ],
          "name": "stderr"
        },
        {
          "output_type": "stream",
          "text": [
            "Epoch: 179, Val Acc: 0.4431 Val f1: 0.411 counter : 5\n"
          ],
          "name": "stdout"
        },
        {
          "output_type": "stream",
          "text": [
            "Epoch 181/200: : 65it [00:20,  3.17it/s, loss=0.934, mean_loss=1.02]\n",
            "8it [00:01,  4.08it/s]\n",
            "0it [00:00, ?it/s]"
          ],
          "name": "stderr"
        },
        {
          "output_type": "stream",
          "text": [
            "Epoch: 180, Val Acc: 0.4431 Val f1: 0.412 counter : 5\n"
          ],
          "name": "stdout"
        },
        {
          "output_type": "stream",
          "text": [
            "Epoch 182/200: : 65it [00:20,  3.15it/s, loss=1.31, mean_loss=1.03]\n",
            "8it [00:01,  4.08it/s]\n",
            "0it [00:00, ?it/s]"
          ],
          "name": "stderr"
        },
        {
          "output_type": "stream",
          "text": [
            "Epoch: 181, Val Acc: 0.4420 Val f1: 0.410 counter : 6\n"
          ],
          "name": "stdout"
        },
        {
          "output_type": "stream",
          "text": [
            "Epoch 183/200: : 65it [00:20,  3.19it/s, loss=0.88, mean_loss=1.02]\n",
            "8it [00:01,  4.08it/s]\n",
            "0it [00:00, ?it/s]"
          ],
          "name": "stderr"
        },
        {
          "output_type": "stream",
          "text": [
            "Epoch: 182, Val Acc: 0.4420 Val f1: 0.410 counter : 6\n"
          ],
          "name": "stdout"
        },
        {
          "output_type": "stream",
          "text": [
            "Epoch 184/200: : 65it [00:20,  3.19it/s, loss=1.35, mean_loss=1.02]\n",
            "8it [00:02,  3.98it/s]\n",
            "0it [00:00, ?it/s]"
          ],
          "name": "stderr"
        },
        {
          "output_type": "stream",
          "text": [
            "Epoch: 183, Val Acc: 0.4442 Val f1: 0.412 counter : 7\n"
          ],
          "name": "stdout"
        },
        {
          "output_type": "stream",
          "text": [
            "Epoch 185/200: : 65it [00:20,  3.19it/s, loss=1.98, mean_loss=1.04]\n",
            "8it [00:01,  4.13it/s]\n",
            "0it [00:00, ?it/s]"
          ],
          "name": "stderr"
        },
        {
          "output_type": "stream",
          "text": [
            "Epoch: 184, Val Acc: 0.4453 Val f1: 0.413 counter : 8\n"
          ],
          "name": "stdout"
        },
        {
          "output_type": "stream",
          "text": [
            "Epoch 186/200: : 65it [00:20,  3.17it/s, loss=1.43, mean_loss=1.02]\n",
            "8it [00:01,  4.04it/s]\n",
            "0it [00:00, ?it/s]"
          ],
          "name": "stderr"
        },
        {
          "output_type": "stream",
          "text": [
            "Epoch: 185, Val Acc: 0.4453 Val f1: 0.413 counter : 8\n"
          ],
          "name": "stdout"
        },
        {
          "output_type": "stream",
          "text": [
            "Epoch 187/200: : 65it [00:20,  3.16it/s, loss=0.964, mean_loss=1.02]\n",
            "8it [00:01,  4.10it/s]\n",
            "0it [00:00, ?it/s]"
          ],
          "name": "stderr"
        },
        {
          "output_type": "stream",
          "text": [
            "Epoch: 186, Val Acc: 0.4442 Val f1: 0.413 counter : 9\n"
          ],
          "name": "stdout"
        },
        {
          "output_type": "stream",
          "text": [
            "Epoch 188/200: : 65it [00:20,  3.15it/s, loss=1.52, mean_loss=1.03]\n",
            "8it [00:01,  4.16it/s]\n",
            "0it [00:00, ?it/s]"
          ],
          "name": "stderr"
        },
        {
          "output_type": "stream",
          "text": [
            "Epoch: 187, Val Acc: 0.4431 Val f1: 0.412 counter : 10\n"
          ],
          "name": "stdout"
        },
        {
          "output_type": "stream",
          "text": [
            "Epoch 189/200: : 65it [00:21,  3.09it/s, loss=1.16, mean_loss=1.02]\n",
            "8it [00:01,  4.11it/s]\n",
            "0it [00:00, ?it/s]"
          ],
          "name": "stderr"
        },
        {
          "output_type": "stream",
          "text": [
            "Epoch: 188, Val Acc: 0.4475 Val f1: 0.417 counter : 10\n"
          ],
          "name": "stdout"
        },
        {
          "output_type": "stream",
          "text": [
            "Epoch 190/200: : 65it [00:20,  3.19it/s, loss=1.06, mean_loss=1.02]\n",
            "8it [00:01,  4.16it/s]\n",
            "0it [00:00, ?it/s]"
          ],
          "name": "stderr"
        },
        {
          "output_type": "stream",
          "text": [
            "Epoch: 189, Val Acc: 0.4442 Val f1: 0.413 counter : 11\n"
          ],
          "name": "stdout"
        },
        {
          "output_type": "stream",
          "text": [
            "Epoch 191/200: : 65it [00:20,  3.20it/s, loss=1.2, mean_loss=1.03]\n",
            "8it [00:01,  4.05it/s]\n",
            "0it [00:00, ?it/s]"
          ],
          "name": "stderr"
        },
        {
          "output_type": "stream",
          "text": [
            "Epoch: 190, Val Acc: 0.4442 Val f1: 0.413 counter : 12\n"
          ],
          "name": "stdout"
        },
        {
          "output_type": "stream",
          "text": [
            "Epoch 192/200: : 65it [00:20,  3.16it/s, loss=0.828, mean_loss=1.02]\n",
            "8it [00:01,  4.01it/s]\n",
            "0it [00:00, ?it/s]"
          ],
          "name": "stderr"
        },
        {
          "output_type": "stream",
          "text": [
            "Epoch: 191, Val Acc: 0.4442 Val f1: 0.413 counter : 12\n"
          ],
          "name": "stdout"
        },
        {
          "output_type": "stream",
          "text": [
            "Epoch 193/200: : 65it [00:21,  3.01it/s, loss=1.21, mean_loss=1.02]\n",
            "8it [00:01,  4.04it/s]\n",
            "0it [00:00, ?it/s]"
          ],
          "name": "stderr"
        },
        {
          "output_type": "stream",
          "text": [
            "Epoch: 192, Val Acc: 0.4442 Val f1: 0.413 counter : 13\n"
          ],
          "name": "stdout"
        },
        {
          "output_type": "stream",
          "text": [
            "Epoch 194/200: : 65it [00:20,  3.20it/s, loss=0.86, mean_loss=1.01]\n",
            "8it [00:01,  4.18it/s]\n",
            "0it [00:00, ?it/s]"
          ],
          "name": "stderr"
        },
        {
          "output_type": "stream",
          "text": [
            "Epoch: 193, Val Acc: 0.4453 Val f1: 0.414 counter : 13\n"
          ],
          "name": "stdout"
        },
        {
          "output_type": "stream",
          "text": [
            "Epoch 195/200: : 65it [00:20,  3.18it/s, loss=2.02, mean_loss=1.04]\n",
            "8it [00:02,  3.99it/s]\n",
            "0it [00:00, ?it/s]"
          ],
          "name": "stderr"
        },
        {
          "output_type": "stream",
          "text": [
            "Epoch: 194, Val Acc: 0.4442 Val f1: 0.413 counter : 14\n"
          ],
          "name": "stdout"
        },
        {
          "output_type": "stream",
          "text": [
            "Epoch 196/200: : 65it [00:20,  3.17it/s, loss=2.67, mean_loss=1.05]\n",
            "0it [00:00, ?it/s]"
          ],
          "name": "stderr"
        },
        {
          "output_type": "stream",
          "text": [
            "Learning rate has been decreased to 4.3046721000000007e-05\n"
          ],
          "name": "stdout"
        },
        {
          "output_type": "stream",
          "text": [
            "8it [00:01,  4.14it/s]\n",
            "0it [00:00, ?it/s]"
          ],
          "name": "stderr"
        },
        {
          "output_type": "stream",
          "text": [
            "Epoch: 195, Val Acc: 0.4453 Val f1: 0.414 counter : 0\n"
          ],
          "name": "stdout"
        },
        {
          "output_type": "stream",
          "text": [
            "Epoch 197/200: : 65it [00:20,  3.17it/s, loss=1.44, mean_loss=1.03]\n",
            "8it [00:01,  4.06it/s]\n",
            "0it [00:00, ?it/s]"
          ],
          "name": "stderr"
        },
        {
          "output_type": "stream",
          "text": [
            "Epoch: 196, Val Acc: 0.4519 Val f1: 0.419 counter : 0\n"
          ],
          "name": "stdout"
        },
        {
          "output_type": "stream",
          "text": [
            "Epoch 198/200: : 65it [00:20,  3.19it/s, loss=2.36, mean_loss=1.05]\n",
            "8it [00:01,  4.06it/s]\n",
            "0it [00:00, ?it/s]"
          ],
          "name": "stderr"
        },
        {
          "output_type": "stream",
          "text": [
            "Epoch: 197, Val Acc: 0.4431 Val f1: 0.409 counter : 1\n"
          ],
          "name": "stdout"
        },
        {
          "output_type": "stream",
          "text": [
            "Epoch 199/200: : 65it [00:20,  3.15it/s, loss=1.19, mean_loss=1.03]\n",
            "8it [00:01,  4.02it/s]\n",
            "0it [00:00, ?it/s]"
          ],
          "name": "stderr"
        },
        {
          "output_type": "stream",
          "text": [
            "Epoch: 198, Val Acc: 0.4442 Val f1: 0.414 counter : 1\n"
          ],
          "name": "stdout"
        },
        {
          "output_type": "stream",
          "text": [
            "Epoch 200/200: : 65it [00:20,  3.18it/s, loss=0.802, mean_loss=1.03]\n",
            "8it [00:01,  4.08it/s]\n",
            "100%|██████████| 200/200 [1:11:06<00:00, 21.33s/it]"
          ],
          "name": "stderr"
        },
        {
          "output_type": "stream",
          "text": [
            "Epoch: 199, Val Acc: 0.4475 Val f1: 0.418 counter : 2\n"
          ],
          "name": "stdout"
        },
        {
          "output_type": "stream",
          "text": [
            "\n"
          ],
          "name": "stderr"
        }
      ]
    },
    {
      "source": [
        "# `Model evaluation and saving the graph model`"
      ],
      "cell_type": "markdown",
      "metadata": {}
    },
    {
      "cell_type": "code",
      "metadata": {
        "id": "UGdT7A9gffTx",
        "colab": {
          "base_uri": "https://localhost:8080/",
          "height": 171
        },
        "outputId": "c8fa61ea-a07f-4e6c-b39e-40c7163d78b5"
      },
      "source": [
        "model.eval()\n",
        "with torch.no_grad():\n",
        "  for i, data in enumerate(val_loader):\n",
        "    x, edge_index, batch = data.x, data.edge_index, data.batch\n",
        "    output = model(x, edge_index, batch)\n",
        "    targets = data.y\n",
        "    print(output, targets)\n",
        "    break"
      ],
      "execution_count": null,
      "outputs": [
        {
          "output_type": "stream",
          "text": [
            "tensor([[ 2.2408,  1.6871,  0.6324,  ..., -2.4726, -1.2293, -0.9360],\n",
            "        [ 3.2180,  2.0356,  0.7193,  ..., -2.4270, -0.9666, -1.3688],\n",
            "        [ 1.8113,  1.7276,  0.2888,  ..., -2.6338, -1.1362, -1.5167],\n",
            "        ...,\n",
            "        [ 3.8880,  2.3889,  1.5504,  ..., -3.3505, -0.3370, -2.0742],\n",
            "        [ 2.9465,  1.5810,  0.9186,  ..., -2.0710, -0.9514, -0.9937],\n",
            "        [ 2.0554,  1.6099,  0.6297,  ..., -2.5760, -1.2069, -1.2641]],\n",
            "       device='cuda:0') [0, 0, 12, 7, 0, 8, 14, 3, 1, 15, 0, 3, 0, 13, 0, 25, 22, 23, 2, 0, 0, 29, 0, 3, 22, 7, 1, 2, 0, 0, 0, 10, 1, 1, 3, 0, 11, 0, 0, 28, 3, 0, 3, 4, 0, 8, 9, 14, 14, 17, 1, 5, 6, 0, 2, 7, 0, 19, 35, 0, 0, 1, 0, 17, 0, 0, 9, 4, 0, 7, 0, 0, 0, 7, 3, 10, 8, 0, 17, 6, 32, 9, 2, 0, 12, 0, 1, 26, 7, 4, 0, 0, 0, 1, 0, 0, 0, 1, 5, 9, 0, 7, 3, 0, 3, 0, 21, 1, 0, 6, 6, 20, 0, 7, 0, 8, 12, 2, 0, 0, 9, 0, 1, 0, 0, 2, 0, 1]\n"
          ],
          "name": "stdout"
        }
      ]
    },
    {
      "cell_type": "code",
      "metadata": {
        "id": "_iaMvjt8gq6K"
      },
      "source": [
        ""
      ],
      "execution_count": null,
      "outputs": []
    },
    {
      "cell_type": "code",
      "metadata": {
        "id": "sJDbMOaIgqrf"
      },
      "source": [
        ""
      ],
      "execution_count": null,
      "outputs": []
    },
    {
      "cell_type": "code",
      "metadata": {
        "id": "2GDFpRSKgqe3"
      },
      "source": [
        ""
      ],
      "execution_count": null,
      "outputs": []
    },
    {
      "cell_type": "code",
      "metadata": {
        "id": "hFrvdi7xgqHr"
      },
      "source": [
        ""
      ],
      "execution_count": null,
      "outputs": []
    },
    {
      "cell_type": "code",
      "metadata": {
        "id": "M1m6AHp3gp7z"
      },
      "source": [
        ""
      ],
      "execution_count": null,
      "outputs": []
    }
  ]
}